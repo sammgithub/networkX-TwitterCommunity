{
 "cells": [
  {
   "cell_type": "code",
   "execution_count": 1,
   "metadata": {},
   "outputs": [],
   "source": [
    "import pandas as pd\n",
    "import matplotlib as plt\n",
    "import numpy as np"
   ]
  },
  {
   "cell_type": "code",
   "execution_count": 2,
   "metadata": {},
   "outputs": [],
   "source": [
    "# pd.np.set_printoptions(suppress=True)"
   ]
  },
  {
   "cell_type": "code",
   "execution_count": 3,
   "metadata": {},
   "outputs": [],
   "source": [
    "pd.set_option('display.max_columns', None)"
   ]
  },
  {
   "cell_type": "code",
   "execution_count": 4,
   "metadata": {},
   "outputs": [
    {
     "name": "stderr",
     "output_type": "stream",
     "text": [
      "/usr/local/Cellar/jupyterlab/3.0.12/libexec/lib/python3.9/site-packages/IPython/core/interactiveshell.py:3165: DtypeWarning: Columns (29) have mixed types.Specify dtype option on import or set low_memory=False.\n",
      "  has_raised = await self.run_ast_nodes(code_ast.body, cell_name,\n"
     ]
    }
   ],
   "source": [
    "data = pd.read_csv('jan20_01-21_000000-235959.csv')"
   ]
  },
  {
   "cell_type": "code",
   "execution_count": null,
   "metadata": {},
   "outputs": [],
   "source": []
  },
  {
   "cell_type": "code",
   "execution_count": 5,
   "metadata": {},
   "outputs": [],
   "source": [
    "df_t = data[['rt_author_id', 't_author_id', 't_text']]"
   ]
  },
  {
   "cell_type": "code",
   "execution_count": 6,
   "metadata": {},
   "outputs": [],
   "source": [
    "df_t = df_t.dropna(subset=['t_text'])"
   ]
  },
  {
   "cell_type": "code",
   "execution_count": 7,
   "metadata": {},
   "outputs": [],
   "source": [
    "from sklearn.feature_extraction.text import CountVectorizer"
   ]
  },
  {
   "cell_type": "code",
   "execution_count": 8,
   "metadata": {},
   "outputs": [],
   "source": [
    "cv = CountVectorizer(analyzer='word',token_pattern=r'[\\w\\@\\#]+')"
   ]
  },
  {
   "cell_type": "code",
   "execution_count": 9,
   "metadata": {},
   "outputs": [],
   "source": [
    "vec = cv.fit_transform(df_t.t_text.dropna().to_numpy())"
   ]
  },
  {
   "cell_type": "code",
   "execution_count": 10,
   "metadata": {},
   "outputs": [],
   "source": [
    "labels = cv.get_feature_names() ## get all features/lables from the df"
   ]
  },
  {
   "cell_type": "code",
   "execution_count": 11,
   "metadata": {},
   "outputs": [],
   "source": [
    "## get all mentions/hashtags and their indiceis >> which indicies has the mentions\n",
    "mentions = []\n",
    "mention_indicies = []\n",
    "hashtags = []\n",
    "hashtag_indicies = []"
   ]
  },
  {
   "cell_type": "code",
   "execution_count": 12,
   "metadata": {},
   "outputs": [],
   "source": [
    "## enumerate through them\n",
    "for i, v in enumerate(labels):\n",
    "    if v.startswith('@'):\n",
    "        mentions.append(v)\n",
    "        mention_indicies.append(i)\n",
    "    elif v.startswith('#'):\n",
    "        hashtags.append(v)\n",
    "        hashtag_indicies.append(i)"
   ]
  },
  {
   "cell_type": "code",
   "execution_count": 13,
   "metadata": {},
   "outputs": [],
   "source": [
    "## convert to np array to avoid sparse matrix\n",
    "mentions = np.array(mentions)\n",
    "mention_indicies = np.array(mention_indicies)\n",
    "hashtags = np.array(hashtags)\n",
    "hashtag_indicies = np.array(hashtag_indicies)"
   ]
  },
  {
   "cell_type": "code",
   "execution_count": 14,
   "metadata": {},
   "outputs": [],
   "source": [
    "## get the columns vector for mentions and hashtags\n",
    "mention_vec = vec[:,mention_indicies]\n",
    "hashtag_vec = vec[:,hashtag_indicies]"
   ]
  },
  {
   "cell_type": "code",
   "execution_count": 15,
   "metadata": {},
   "outputs": [],
   "source": [
    "## rank the indicies from all counts to get top mentions/tags\n",
    "mentions_count = np.array(mention_vec.sum(axis=0)).flatten()\n",
    "mentions_rank_indicies = mentions_count.argsort()[::-1]\n",
    "\n",
    "hashtags_count = np.array(hashtag_vec.sum(axis=0)).flatten()\n",
    "hashtags_rank_indicies = hashtags_count.argsort()[::-1]"
   ]
  },
  {
   "cell_type": "code",
   "execution_count": 16,
   "metadata": {},
   "outputs": [],
   "source": [
    "## now get mention/hashtag ranked accordingly\n",
    "# mentions_ranked = mentions[mentions_rank_indicies]\n",
    "# hashtags_ranked = hashtags[hashtags_rank_indicies]"
   ]
  },
  {
   "cell_type": "code",
   "execution_count": 17,
   "metadata": {},
   "outputs": [],
   "source": [
    "# top10mentions_vec = vec[:,mention_indicies[mentions_rank_indicies[:10]]].toarray()\n",
    "# top10hashtags_vec = vec[:,hashtag_indicies[hashtags_rank_indicies[:10]]].toarray()"
   ]
  },
  {
   "cell_type": "code",
   "execution_count": 18,
   "metadata": {},
   "outputs": [
    {
     "data": {
      "text/plain": [
       "['@who',\n",
       " '@declanoscanlon',\n",
       " '@realdonaldtrump',\n",
       " '@bts_twt',\n",
       " '@drtedros',\n",
       " '@njsenatepres',\n",
       " '@doritmi',\n",
       " '@peterhotez',\n",
       " '@mcfunny',\n",
       " '@cnn',\n",
       " '@janeeopie',\n",
       " '@monstercoyliar',\n",
       " '@cdcgov',\n",
       " '@sheldon_walker_',\n",
       " '@thereal_truther',\n",
       " '@rosewind2007',\n",
       " '@nytimes',\n",
       " '@vingopal',\n",
       " '@beckyjohnson222',\n",
       " '@chrisjohnsonmd']"
      ]
     },
     "execution_count": 18,
     "metadata": {},
     "output_type": "execute_result"
    }
   ],
   "source": [
    "mentions_ranked.tolist()[::1][:20]"
   ]
  },
  {
   "cell_type": "code",
   "execution_count": 19,
   "metadata": {},
   "outputs": [
    {
     "data": {
      "text/plain": [
       "['#coronavirus',\n",
       " '#china',\n",
       " '#wuhan',\n",
       " '#staysafe',\n",
       " '#2019ncov',\n",
       " '#vaccine',\n",
       " '#kashmir',\n",
       " '#wuhanpneumonia',\n",
       " '#breaking',\n",
       " '#vaccineswork',\n",
       " '#sars',\n",
       " '#vaccinesafety',\n",
       " '#hongkong',\n",
       " '#votenos2173',\n",
       " '#flu',\n",
       " '#virus',\n",
       " '#shenzhen',\n",
       " '#pneumonia',\n",
       " '#beijing',\n",
       " '#ปอดอ']"
      ]
     },
     "execution_count": 19,
     "metadata": {},
     "output_type": "execute_result"
    }
   ],
   "source": [
    "hashtags_ranked.tolist()[::1][:20]"
   ]
  },
  {
   "cell_type": "code",
   "execution_count": 20,
   "metadata": {},
   "outputs": [
    {
     "data": {
      "text/plain": [
       "(46201,)"
      ]
     },
     "execution_count": 20,
     "metadata": {},
     "output_type": "execute_result"
    }
   ],
   "source": [
    "mention_indicies[mentions_rank_indicies[:-10]].shape"
   ]
  },
  {
   "cell_type": "code",
   "execution_count": 21,
   "metadata": {},
   "outputs": [
    {
     "data": {
      "text/plain": [
       "(616837, 10)"
      ]
     },
     "execution_count": 21,
     "metadata": {},
     "output_type": "execute_result"
    }
   ],
   "source": [
    "vec[:,mention_indicies[mentions_rank_indicies[:10]]].toarray().shape"
   ]
  },
  {
   "cell_type": "code",
   "execution_count": 55,
   "metadata": {},
   "outputs": [
    {
     "name": "stderr",
     "output_type": "stream",
     "text": [
      "<ipython-input-55-13e1503541ee>:2: SettingWithCopyWarning: \n",
      "A value is trying to be set on a copy of a slice from a DataFrame.\n",
      "Try using .loc[row_indexer,col_indexer] = value instead\n",
      "\n",
      "See the caveats in the documentation: https://pandas.pydata.org/pandas-docs/stable/user_guide/indexing.html#returning-a-view-versus-a-copy\n",
      "  results['rt_author_id'] = results['rt_author_id'].apply(int)\n",
      "<ipython-input-55-13e1503541ee>:3: SettingWithCopyWarning: \n",
      "A value is trying to be set on a copy of a slice from a DataFrame.\n",
      "Try using .loc[row_indexer,col_indexer] = value instead\n",
      "\n",
      "See the caveats in the documentation: https://pandas.pydata.org/pandas-docs/stable/user_guide/indexing.html#returning-a-view-versus-a-copy\n",
      "  results['t_author_id'] = results['t_author_id'].apply(int)\n"
     ]
    }
   ],
   "source": [
    "results = df_t[['rt_author_id', 't_author_id']]\n",
    "results['rt_author_id'] = results['rt_author_id'].apply(int)\n",
    "results['t_author_id'] = results['t_author_id'].apply(int)"
   ]
  },
  {
   "cell_type": "code",
   "execution_count": 56,
   "metadata": {},
   "outputs": [],
   "source": [
    "## \n",
    "for i in mentions_rank_indicies[:10]:\n",
    "    results[mentions[i]] = vec[:,mention_indicies[i]].toarray().flatten()"
   ]
  },
  {
   "cell_type": "code",
   "execution_count": null,
   "metadata": {},
   "outputs": [],
   "source": []
  },
  {
   "cell_type": "code",
   "execution_count": 57,
   "metadata": {},
   "outputs": [],
   "source": [
    "results['mentions_sum'] = vec[:,mention_indicies[mentions_rank_indicies[:10]]].toarray().sum(axis=1)"
   ]
  },
  {
   "cell_type": "code",
   "execution_count": 58,
   "metadata": {},
   "outputs": [
    {
     "data": {
      "text/html": [
       "<div>\n",
       "<style scoped>\n",
       "    .dataframe tbody tr th:only-of-type {\n",
       "        vertical-align: middle;\n",
       "    }\n",
       "\n",
       "    .dataframe tbody tr th {\n",
       "        vertical-align: top;\n",
       "    }\n",
       "\n",
       "    .dataframe thead th {\n",
       "        text-align: right;\n",
       "    }\n",
       "</style>\n",
       "<table border=\"1\" class=\"dataframe\">\n",
       "  <thead>\n",
       "    <tr style=\"text-align: right;\">\n",
       "      <th></th>\n",
       "      <th>rt_author_id</th>\n",
       "      <th>t_author_id</th>\n",
       "      <th>@who</th>\n",
       "      <th>@declanoscanlon</th>\n",
       "      <th>@realdonaldtrump</th>\n",
       "      <th>@bts_twt</th>\n",
       "      <th>@drtedros</th>\n",
       "      <th>@njsenatepres</th>\n",
       "      <th>@doritmi</th>\n",
       "      <th>@peterhotez</th>\n",
       "      <th>@mcfunny</th>\n",
       "      <th>@cnn</th>\n",
       "      <th>mentions_sum</th>\n",
       "    </tr>\n",
       "  </thead>\n",
       "  <tbody>\n",
       "    <tr>\n",
       "      <th>0</th>\n",
       "      <td>28967452</td>\n",
       "      <td>28025927</td>\n",
       "      <td>0</td>\n",
       "      <td>0</td>\n",
       "      <td>0</td>\n",
       "      <td>0</td>\n",
       "      <td>0</td>\n",
       "      <td>0</td>\n",
       "      <td>0</td>\n",
       "      <td>0</td>\n",
       "      <td>0</td>\n",
       "      <td>0</td>\n",
       "      <td>0</td>\n",
       "    </tr>\n",
       "    <tr>\n",
       "      <th>1</th>\n",
       "      <td>57283792</td>\n",
       "      <td>166505824</td>\n",
       "      <td>0</td>\n",
       "      <td>0</td>\n",
       "      <td>0</td>\n",
       "      <td>0</td>\n",
       "      <td>0</td>\n",
       "      <td>0</td>\n",
       "      <td>0</td>\n",
       "      <td>0</td>\n",
       "      <td>0</td>\n",
       "      <td>0</td>\n",
       "      <td>0</td>\n",
       "    </tr>\n",
       "    <tr>\n",
       "      <th>2</th>\n",
       "      <td>211845768</td>\n",
       "      <td>226194552</td>\n",
       "      <td>0</td>\n",
       "      <td>0</td>\n",
       "      <td>0</td>\n",
       "      <td>0</td>\n",
       "      <td>0</td>\n",
       "      <td>0</td>\n",
       "      <td>0</td>\n",
       "      <td>0</td>\n",
       "      <td>0</td>\n",
       "      <td>0</td>\n",
       "      <td>0</td>\n",
       "    </tr>\n",
       "    <tr>\n",
       "      <th>3</th>\n",
       "      <td>119321075</td>\n",
       "      <td>954124423</td>\n",
       "      <td>0</td>\n",
       "      <td>0</td>\n",
       "      <td>0</td>\n",
       "      <td>0</td>\n",
       "      <td>0</td>\n",
       "      <td>0</td>\n",
       "      <td>0</td>\n",
       "      <td>0</td>\n",
       "      <td>0</td>\n",
       "      <td>0</td>\n",
       "      <td>0</td>\n",
       "    </tr>\n",
       "    <tr>\n",
       "      <th>4</th>\n",
       "      <td>1391090496</td>\n",
       "      <td>954124423</td>\n",
       "      <td>0</td>\n",
       "      <td>0</td>\n",
       "      <td>0</td>\n",
       "      <td>0</td>\n",
       "      <td>0</td>\n",
       "      <td>0</td>\n",
       "      <td>0</td>\n",
       "      <td>0</td>\n",
       "      <td>0</td>\n",
       "      <td>0</td>\n",
       "      <td>0</td>\n",
       "    </tr>\n",
       "    <tr>\n",
       "      <th>...</th>\n",
       "      <td>...</td>\n",
       "      <td>...</td>\n",
       "      <td>...</td>\n",
       "      <td>...</td>\n",
       "      <td>...</td>\n",
       "      <td>...</td>\n",
       "      <td>...</td>\n",
       "      <td>...</td>\n",
       "      <td>...</td>\n",
       "      <td>...</td>\n",
       "      <td>...</td>\n",
       "      <td>...</td>\n",
       "      <td>...</td>\n",
       "    </tr>\n",
       "    <tr>\n",
       "      <th>782913</th>\n",
       "      <td>7065032</td>\n",
       "      <td>860339384721313792</td>\n",
       "      <td>0</td>\n",
       "      <td>0</td>\n",
       "      <td>0</td>\n",
       "      <td>0</td>\n",
       "      <td>0</td>\n",
       "      <td>0</td>\n",
       "      <td>0</td>\n",
       "      <td>0</td>\n",
       "      <td>0</td>\n",
       "      <td>0</td>\n",
       "      <td>0</td>\n",
       "    </tr>\n",
       "    <tr>\n",
       "      <th>782914</th>\n",
       "      <td>2908139527</td>\n",
       "      <td>21499303</td>\n",
       "      <td>0</td>\n",
       "      <td>0</td>\n",
       "      <td>0</td>\n",
       "      <td>0</td>\n",
       "      <td>0</td>\n",
       "      <td>0</td>\n",
       "      <td>0</td>\n",
       "      <td>0</td>\n",
       "      <td>0</td>\n",
       "      <td>0</td>\n",
       "      <td>0</td>\n",
       "    </tr>\n",
       "    <tr>\n",
       "      <th>782915</th>\n",
       "      <td>4115780194</td>\n",
       "      <td>755057897583804416</td>\n",
       "      <td>0</td>\n",
       "      <td>0</td>\n",
       "      <td>0</td>\n",
       "      <td>0</td>\n",
       "      <td>0</td>\n",
       "      <td>0</td>\n",
       "      <td>0</td>\n",
       "      <td>0</td>\n",
       "      <td>0</td>\n",
       "      <td>0</td>\n",
       "      <td>0</td>\n",
       "    </tr>\n",
       "    <tr>\n",
       "      <th>782916</th>\n",
       "      <td>1148252342048952322</td>\n",
       "      <td>907034217636343808</td>\n",
       "      <td>0</td>\n",
       "      <td>0</td>\n",
       "      <td>0</td>\n",
       "      <td>0</td>\n",
       "      <td>0</td>\n",
       "      <td>0</td>\n",
       "      <td>0</td>\n",
       "      <td>0</td>\n",
       "      <td>0</td>\n",
       "      <td>0</td>\n",
       "      <td>0</td>\n",
       "    </tr>\n",
       "    <tr>\n",
       "      <th>782919</th>\n",
       "      <td>632909553</td>\n",
       "      <td>907034217636343808</td>\n",
       "      <td>0</td>\n",
       "      <td>0</td>\n",
       "      <td>0</td>\n",
       "      <td>0</td>\n",
       "      <td>0</td>\n",
       "      <td>0</td>\n",
       "      <td>0</td>\n",
       "      <td>0</td>\n",
       "      <td>0</td>\n",
       "      <td>0</td>\n",
       "      <td>0</td>\n",
       "    </tr>\n",
       "  </tbody>\n",
       "</table>\n",
       "<p>616837 rows × 13 columns</p>\n",
       "</div>"
      ],
      "text/plain": [
       "               rt_author_id         t_author_id  @who  @declanoscanlon  \\\n",
       "0                  28967452            28025927     0                0   \n",
       "1                  57283792           166505824     0                0   \n",
       "2                 211845768           226194552     0                0   \n",
       "3                 119321075           954124423     0                0   \n",
       "4                1391090496           954124423     0                0   \n",
       "...                     ...                 ...   ...              ...   \n",
       "782913              7065032  860339384721313792     0                0   \n",
       "782914           2908139527            21499303     0                0   \n",
       "782915           4115780194  755057897583804416     0                0   \n",
       "782916  1148252342048952322  907034217636343808     0                0   \n",
       "782919            632909553  907034217636343808     0                0   \n",
       "\n",
       "        @realdonaldtrump  @bts_twt  @drtedros  @njsenatepres  @doritmi  \\\n",
       "0                      0         0          0              0         0   \n",
       "1                      0         0          0              0         0   \n",
       "2                      0         0          0              0         0   \n",
       "3                      0         0          0              0         0   \n",
       "4                      0         0          0              0         0   \n",
       "...                  ...       ...        ...            ...       ...   \n",
       "782913                 0         0          0              0         0   \n",
       "782914                 0         0          0              0         0   \n",
       "782915                 0         0          0              0         0   \n",
       "782916                 0         0          0              0         0   \n",
       "782919                 0         0          0              0         0   \n",
       "\n",
       "        @peterhotez  @mcfunny  @cnn  mentions_sum  \n",
       "0                 0         0     0             0  \n",
       "1                 0         0     0             0  \n",
       "2                 0         0     0             0  \n",
       "3                 0         0     0             0  \n",
       "4                 0         0     0             0  \n",
       "...             ...       ...   ...           ...  \n",
       "782913            0         0     0             0  \n",
       "782914            0         0     0             0  \n",
       "782915            0         0     0             0  \n",
       "782916            0         0     0             0  \n",
       "782919            0         0     0             0  \n",
       "\n",
       "[616837 rows x 13 columns]"
      ]
     },
     "execution_count": 58,
     "metadata": {},
     "output_type": "execute_result"
    }
   ],
   "source": [
    "results"
   ]
  },
  {
   "cell_type": "code",
   "execution_count": 59,
   "metadata": {},
   "outputs": [],
   "source": [
    "results = results[results['mentions_sum']>0]"
   ]
  },
  {
   "cell_type": "code",
   "execution_count": 60,
   "metadata": {},
   "outputs": [],
   "source": [
    "network_input = []"
   ]
  },
  {
   "cell_type": "code",
   "execution_count": 61,
   "metadata": {},
   "outputs": [],
   "source": [
    "for mention in mentions[mentions_rank_indicies][:10]:\n",
    "    for _, row in results[results[mention]>0].iterrows():\n",
    "        rel = (row['t_author_id'],row['rt_author_id'],row[mention])\n",
    "        network_input.append(rel)\n",
    "#         break\n",
    "    break"
   ]
  },
  {
   "cell_type": "code",
   "execution_count": 65,
   "metadata": {},
   "outputs": [],
   "source": [
    "with open('fname.csv', 'w') as f:\n",
    "    f.write('t_author_id,rt_author_id,weight,mention\\n')\n",
    "    for mention in mentions[mentions_rank_indicies][:10]:\n",
    "        for _, row in results[results[mention]>0].iterrows():\n",
    "            rel = (row['t_author_id'],row['rt_author_id'],row[mention],mention)\n",
    "            network_input.append(rel)\n",
    "            f.write(','.join([str(e) for e in rel]))\n",
    "            f.write('\\n')"
   ]
  },
  {
   "cell_type": "code",
   "execution_count": 62,
   "metadata": {},
   "outputs": [
    {
     "data": {
      "text/plain": [
       "'14159148,1105064943794245632,1'"
      ]
     },
     "execution_count": 62,
     "metadata": {},
     "output_type": "execute_result"
    }
   ],
   "source": [
    "# ','.join([str(e) for e in rel])"
   ]
  },
  {
   "cell_type": "code",
   "execution_count": 64,
   "metadata": {},
   "outputs": [
    {
     "data": {
      "text/plain": [
       "34201"
      ]
     },
     "execution_count": 64,
     "metadata": {},
     "output_type": "execute_result"
    }
   ],
   "source": [
    "results['mentions_sum'].sum()"
   ]
  },
  {
   "cell_type": "code",
   "execution_count": null,
   "metadata": {},
   "outputs": [],
   "source": []
  },
  {
   "cell_type": "code",
   "execution_count": 26,
   "metadata": {},
   "outputs": [],
   "source": [
    "# df_t['mention_WHO'] = top10mentions_vec[:,0]\n",
    "# df_t['tag_CORONAVIRUS'] = top10hashtags_vec[:,0]"
   ]
  },
  {
   "cell_type": "code",
   "execution_count": 43,
   "metadata": {},
   "outputs": [],
   "source": [
    "# df_t[df_t.mention_WHO>0]"
   ]
  },
  {
   "cell_type": "code",
   "execution_count": null,
   "metadata": {},
   "outputs": [],
   "source": [
    "# df_t[df_t.tag_CORONAVIRUS>0]"
   ]
  },
  {
   "cell_type": "code",
   "execution_count": null,
   "metadata": {},
   "outputs": [],
   "source": [
    "# df_rt.to_csv('df_t_top_mntns_and_hashtags_jan_1-21.csv', index=False, sep=',')"
   ]
  },
  {
   "cell_type": "code",
   "execution_count": null,
   "metadata": {},
   "outputs": [],
   "source": [
    "# data[data['rt_text'].astype(str).str.contains(\"@who|WHO\")]\n",
    "# df_rt[(df_rt['rt_text'].astype(str).str.contains(\"@who|WHO\")) & (data['t_text'].astype(str).str.contains(\"@who|WHO\"))][['rt_author_id', 't_author_id', 'rt_text', 't_text']]"
   ]
  },
  {
   "cell_type": "code",
   "execution_count": null,
   "metadata": {},
   "outputs": [],
   "source": [
    "# data[(data['rt_text'].astype(str).str.contains(\"#coronavirus|coronavirus|corona|#corona\")) & (data['t_text'].astype(str).str.contains(\"#coronavirus|coronavirus|corona|#corona\"))][['rt_author_id', 't_author_id', 'rt_text', 't_text']]"
   ]
  },
  {
   "cell_type": "code",
   "execution_count": null,
   "metadata": {},
   "outputs": [],
   "source": [
    "# get top 10 most frequent values\n",
    "# data['t_author_id'].value_counts().index.tolist()[:10]"
   ]
  },
  {
   "cell_type": "code",
   "execution_count": null,
   "metadata": {},
   "outputs": [],
   "source": [
    "# data.loc[np.logical_and(df.t_text == '@coronavirus', df.rt_text == '@who')]\n",
    "# data.loc[df.rt_text =='@who'][['rt_author_id', 't_author_id', 'rt_text', 't_text']]"
   ]
  }
 ],
 "metadata": {
  "kernelspec": {
   "display_name": "Python 3",
   "language": "python",
   "name": "python3"
  },
  "language_info": {
   "codemirror_mode": {
    "name": "ipython",
    "version": 3
   },
   "file_extension": ".py",
   "mimetype": "text/x-python",
   "name": "python",
   "nbconvert_exporter": "python",
   "pygments_lexer": "ipython3",
   "version": "3.9.2"
  }
 },
 "nbformat": 4,
 "nbformat_minor": 4
}
