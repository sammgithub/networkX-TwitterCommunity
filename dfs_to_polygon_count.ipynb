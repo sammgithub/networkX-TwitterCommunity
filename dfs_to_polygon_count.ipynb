{
 "cells": [
  {
   "cell_type": "code",
   "execution_count": 24,
   "id": "entire-router",
   "metadata": {},
   "outputs": [],
   "source": [
    "import networkx as nx\n",
    "import matplotlib.pyplot as plt\n",
    "import numpy as np"
   ]
  },
  {
   "cell_type": "code",
   "execution_count": 81,
   "id": "emotional-overall",
   "metadata": {},
   "outputs": [
    {
     "name": "stderr",
     "output_type": "stream",
     "text": [
      "/usr/local/Cellar/jupyterlab/3.0.12/libexec/lib/python3.9/site-packages/IPython/core/interactiveshell.py:3165: DtypeWarning: Columns (29) have mixed types.Specify dtype option on import or set low_memory=False.\n",
      "  has_raised = await self.run_ast_nodes(code_ast.body, cell_name,\n"
     ]
    }
   ],
   "source": [
    "df_co = pd.read_csv('jan20_01-21_000000-235959.csv', encoding='utf8')\n",
    "df_co = df_co[:50000]"
   ]
  },
  {
   "cell_type": "code",
   "execution_count": 82,
   "id": "micro-catering",
   "metadata": {},
   "outputs": [],
   "source": [
    "R = nx.from_pandas_edgelist(df_co,'t_author_id','rt_author_id', edge_attr='rt_rt_count', create_using=nx.Graph()) ##, create_using=nx.DiGraph() ##, create_using=nx.MultiGraph()"
   ]
  },
  {
   "cell_type": "code",
   "execution_count": 13,
   "id": "nutritional-capital",
   "metadata": {},
   "outputs": [],
   "source": [
    "# import pandas as pd\n",
    "\n",
    "# g = {\n",
    "# 'A': [ 'A', 'B', 'C'], \n",
    "# 'B': [ 'A', 'C', 'E'], \n",
    "# 'C': [ 'A', 'B ',' D '], # I added a comma here\n",
    "# 'D': [' C ',' E '],\n",
    "# 'E': [' B ',' D ']\n",
    "# }\n",
    "\n",
    "# # clean up the example\n",
    "# g = {k: [v.strip() for v in vs] for k, vs in g.items()}\n",
    "\n",
    "\n",
    "# edges = [(a, b) for a, bs in g.items() for b in bs]\n",
    "\n",
    "# df = pd.DataFrame(edges)\n",
    "\n",
    "# adj_matrix = pd.crosstab(df[0], df[1])"
   ]
  },
  {
   "cell_type": "code",
   "execution_count": null,
   "id": "english-letters",
   "metadata": {},
   "outputs": [],
   "source": [
    "# adj_matrix"
   ]
  },
  {
   "cell_type": "code",
   "execution_count": 15,
   "id": "perceived-canon",
   "metadata": {},
   "outputs": [
    {
     "data": {
      "image/png": "[encoded data removed]",
      "text/plain": [
       "<Figure size 432x288 with 1 Axes>"
      ]
     },
     "metadata": {},
     "output_type": "display_data"
    }
   ],
   "source": [
    "# importing networkx\n",
    "import networkx as nx\n",
    "# importing matplotlib.pyplot\n",
    "import matplotlib.pyplot as plt\n",
    "\n",
    "g = nx.Graph()\n",
    "\n",
    "g.add_edge(1, 2)\n",
    "g.add_edge(1, 5)\n",
    "g.add_edge(1, 6)\n",
    "g.add_edge(1, 4)\n",
    "\n",
    "g.add_edge(2, 3)\n",
    "g.add_edge(2, 6)\n",
    "\n",
    "g.add_edge(3, 7)\n",
    "\n",
    "g.add_edge(4, 5)\n",
    "g.add_edge(4, 8)\n",
    "\n",
    "g.add_edge(5, 6)\n",
    "g.add_edge(5, 9)\n",
    "\n",
    "g.add_edge(6, 7)\n",
    "\n",
    "g.add_edge(7, 10)\n",
    "g.add_edge(7, 11)\n",
    "\n",
    "g.add_edge(8, 9)\n",
    "\n",
    "g.add_edge(9, 10)\n",
    "g.add_edge(10, 11)\n",
    "\n",
    "nx.draw(g, with_labels = True)\n",
    "# plt.savefig(\"filename.png\")\n"
   ]
  },
  {
   "cell_type": "code",
   "execution_count": 83,
   "id": "furnished-million",
   "metadata": {},
   "outputs": [],
   "source": [
    "adm = nx.linalg.graphmatrix.adjacency_matrix(R).toarray()"
   ]
  },
  {
   "cell_type": "code",
   "execution_count": 84,
   "id": "assured-concert",
   "metadata": {},
   "outputs": [],
   "source": [
    "# m2 = np.matmul(adm,adm)\n",
    "# m3 = np.matmul(m2,adm)"
   ]
  },
  {
   "cell_type": "code",
   "execution_count": 85,
   "id": "organic-automation",
   "metadata": {},
   "outputs": [],
   "source": [
    "# m2"
   ]
  },
  {
   "cell_type": "code",
   "execution_count": 69,
   "id": "hired-impossible",
   "metadata": {},
   "outputs": [
    {
     "data": {
      "text/plain": [
       "array([[1, 4, 0, ..., 0, 0, 0],\n",
       "       [4, 5, 0, ..., 0, 0, 0],\n",
       "       [0, 0, 0, ..., 0, 0, 0],\n",
       "       ...,\n",
       "       [0, 0, 0, ..., 0, 0, 0],\n",
       "       [0, 0, 0, ..., 0, 0, 0],\n",
       "       [0, 0, 0, ..., 0, 0, 0]])"
      ]
     },
     "execution_count": 69,
     "metadata": {},
     "output_type": "execute_result"
    }
   ],
   "source": [
    "m3"
   ]
  },
  {
   "cell_type": "code",
   "execution_count": 86,
   "id": "center-leeds",
   "metadata": {},
   "outputs": [],
   "source": [
    "# (m3==6).sum()"
   ]
  },
  {
   "cell_type": "code",
   "execution_count": 87,
   "id": "patent-handle",
   "metadata": {},
   "outputs": [],
   "source": [
    "# m4 = np.matmul(adm,m3)"
   ]
  },
  {
   "cell_type": "code",
   "execution_count": 88,
   "id": "entire-pacific",
   "metadata": {},
   "outputs": [],
   "source": [
    "# (m4==4).sum()"
   ]
  },
  {
   "cell_type": "code",
   "execution_count": 89,
   "id": "registered-underwear",
   "metadata": {},
   "outputs": [],
   "source": [
    "# m4"
   ]
  },
  {
   "cell_type": "code",
   "execution_count": 91,
   "id": "pleased-publication",
   "metadata": {},
   "outputs": [],
   "source": [
    "# Python Program to count\n",
    "# cycles of length n\n",
    "# in a given graph.\n",
    "\n",
    "# Number of vertices\n",
    "V = 11\n",
    "\n",
    "def DFS(graph, marked, n, vert, start, count):\n",
    "\n",
    "\t# mark the vertex vert as visited\n",
    "\tmarked[vert] = True\n",
    "\n",
    "\t# if the path of length (n-1) is found\n",
    "\tif n == 0:\n",
    "\n",
    "\t\t# mark vert as un-visited to make\n",
    "\t\t# it usable again.\n",
    "\t\tmarked[vert] = False\n",
    "\n",
    "\t\t# Check if vertex vert can end with\n",
    "\t\t# vertex start\n",
    "\t\tif graph[vert][start] == 1:\n",
    "\t\t\tcount = count + 1\n",
    "\t\t\treturn count\n",
    "\t\telse:\n",
    "\t\t\treturn count\n",
    "\n",
    "\t# For searching every possible path of\n",
    "\t# length (n-1)\n",
    "\tfor i in range(V):\n",
    "\t\tif marked[i] == False and graph[vert][i] == 1:\n",
    "\n",
    "\t\t\t# DFS for searching path by decreasing\n",
    "\t\t\t# length by 1\n",
    "\t\t\tcount = DFS(graph, marked, n-1, i, start, count)\n",
    "\n",
    "\t# marking vert as unvisited to make it\n",
    "\t# usable again.\n",
    "\tmarked[vert] = False\n",
    "\treturn count"
   ]
  },
  {
   "cell_type": "code",
   "execution_count": 104,
   "id": "musical-earth",
   "metadata": {},
   "outputs": [
    {
     "name": "stdout",
     "output_type": "stream",
     "text": [
      "Total cycles of length  9  are  0\n"
     ]
    }
   ],
   "source": [
    "# Counts cycles of length\n",
    "# N in an undirected\n",
    "# and connected graph.\n",
    "def countCycles( graph, n):\n",
    "\n",
    "\t# all vertex are marked un-visited initially.\n",
    "\tmarked = [False] * V\n",
    "\n",
    "\t# Searching for cycle by using v-n+1 vertices\n",
    "\tcount = 0\n",
    "\tfor i in range(V-(n-1)):\n",
    "\t\tcount = DFS(graph, marked, n-1, i, i, count)\n",
    "\n",
    "\t\t# ith vertex is marked as visited and\n",
    "\t\t# will not be visited again.\n",
    "\t\tmarked[i] = True\n",
    "\t\n",
    "\treturn int(count/2)\n",
    "\n",
    "n = 9\n",
    "print(\"Total cycles of length \",n,\" are \",countCycles(adm, n))"
   ]
  },
  {
   "cell_type": "code",
   "execution_count": 93,
   "id": "empty-equation",
   "metadata": {},
   "outputs": [
    {
     "name": "stdout",
     "output_type": "stream",
     "text": [
      "Total cycles of length  4  are  0\n"
     ]
    }
   ],
   "source": [
    "print(\"Total cycles of length \",4,\" are \",countCycles(adm, 4))"
   ]
  },
  {
   "cell_type": "code",
   "execution_count": null,
   "id": "monetary-function",
   "metadata": {},
   "outputs": [],
   "source": []
  }
 ],
 "metadata": {
  "kernelspec": {
   "display_name": "Python 3",
   "language": "python",
   "name": "python3"
  },
  "language_info": {
   "codemirror_mode": {
    "name": "ipython",
    "version": 3
   },
   "file_extension": ".py",
   "mimetype": "text/x-python",
   "name": "python",
   "nbconvert_exporter": "python",
   "pygments_lexer": "ipython3",
   "version": "3.9.2"
  }
 },
 "nbformat": 4,
 "nbformat_minor": 5
}
