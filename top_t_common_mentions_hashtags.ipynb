{
 "cells": [
  {
   "cell_type": "code",
   "execution_count": 1,
   "metadata": {},
   "outputs": [],
   "source": [
    "import pandas as pd\n",
    "import matplotlib as plt\n",
    "import numpy as np"
   ]
  },
  {
   "cell_type": "code",
   "execution_count": 2,
   "metadata": {},
   "outputs": [],
   "source": [
    "# pd.np.set_printoptions(suppress=True)"
   ]
  },
  {
   "cell_type": "code",
   "execution_count": 3,
   "metadata": {},
   "outputs": [],
   "source": [
    "pd.set_option('display.max_columns', None)"
   ]
  },
  {
   "cell_type": "code",
   "execution_count": 23,
   "metadata": {},
   "outputs": [
    {
     "name": "stderr",
     "output_type": "stream",
     "text": [
      "/usr/local/Cellar/jupyterlab/3.0.12/libexec/lib/python3.9/site-packages/IPython/core/interactiveshell.py:3165: DtypeWarning: Columns (29) have mixed types.Specify dtype option on import or set low_memory=False.\n",
      "  has_raised = await self.run_ast_nodes(code_ast.body, cell_name,\n"
     ]
    }
   ],
   "source": [
    "data = pd.read_csv('jan20_01-21_000000-235959.csv')"
   ]
  },
  {
   "cell_type": "code",
   "execution_count": 24,
   "metadata": {},
   "outputs": [],
   "source": [
    "df_t = data[['rt_author_id', 't_author_id', 'rt_text', 't_text']]"
   ]
  },
  {
   "cell_type": "code",
   "execution_count": 25,
   "metadata": {},
   "outputs": [],
   "source": [
    "df_t = df_t.dropna(subset=['t_text'])"
   ]
  },
  {
   "cell_type": "code",
   "execution_count": 6,
   "metadata": {},
   "outputs": [],
   "source": [
    "from sklearn.feature_extraction.text import CountVectorizer"
   ]
  },
  {
   "cell_type": "code",
   "execution_count": 7,
   "metadata": {},
   "outputs": [],
   "source": [
    "cv = CountVectorizer(analyzer='word',token_pattern=r'[\\w\\@\\#]+')"
   ]
  },
  {
   "cell_type": "code",
   "execution_count": 8,
   "metadata": {},
   "outputs": [],
   "source": [
    "vec = cv.fit_transform(df_t.t_text.dropna().to_numpy())"
   ]
  },
  {
   "cell_type": "code",
   "execution_count": 9,
   "metadata": {},
   "outputs": [],
   "source": [
    "labels = cv.get_feature_names() ## get all features/lables from the df"
   ]
  },
  {
   "cell_type": "code",
   "execution_count": 10,
   "metadata": {},
   "outputs": [],
   "source": [
    "## get all mentions/hashtags and their indiceis\n",
    "mentions = []\n",
    "mention_indicies = []\n",
    "hashtags = []\n",
    "hashtag_indicies = []"
   ]
  },
  {
   "cell_type": "code",
   "execution_count": 11,
   "metadata": {},
   "outputs": [],
   "source": [
    "## enumerate through them\n",
    "for i, v in enumerate(labels):\n",
    "    if v.startswith('@'):\n",
    "        mentions.append(v)\n",
    "        mention_indicies.append(i)\n",
    "    elif v.startswith('#'):\n",
    "        hashtags.append(v)\n",
    "        hashtag_indicies.append(i)"
   ]
  },
  {
   "cell_type": "code",
   "execution_count": 12,
   "metadata": {},
   "outputs": [],
   "source": [
    "## convert to np array to avoid sparse matrix\n",
    "mentions = np.array(mentions)\n",
    "mention_indicies = np.array(mention_indicies)\n",
    "hashtags = np.array(hashtags)\n",
    "hashtag_indicies = np.array(hashtag_indicies)"
   ]
  },
  {
   "cell_type": "code",
   "execution_count": 13,
   "metadata": {},
   "outputs": [],
   "source": [
    "## get the columns vector for mentions and hashtags\n",
    "mention_vec = vec[:,mention_indicies]\n",
    "hashtag_vec = vec[:,hashtag_indicies]"
   ]
  },
  {
   "cell_type": "code",
   "execution_count": 14,
   "metadata": {},
   "outputs": [],
   "source": [
    "## rank the indicies from all counts to get top mentions/tags\n",
    "mentions_count = np.array(mention_vec.sum(axis=0)).flatten()\n",
    "mentions_rank_indicies = mentions_count.argsort()[::-1]\n",
    "\n",
    "hashtags_count = np.array(hashtag_vec.sum(axis=0)).flatten()\n",
    "hashtags_rank_indicies = hashtags_count.argsort()[::-1]"
   ]
  },
  {
   "cell_type": "code",
   "execution_count": 15,
   "metadata": {},
   "outputs": [],
   "source": [
    "## now get mention/hashtag ranked accordingly\n",
    "mentions_ranked = mentions[mentions_rank_indicies]\n",
    "hashtags_ranked = hashtags[hashtags_rank_indicies]"
   ]
  },
  {
   "cell_type": "code",
   "execution_count": 16,
   "metadata": {},
   "outputs": [],
   "source": [
    "top10mentions_vec = vec[:,mention_indicies[mentions_rank_indicies[:10]]].toarray()\n",
    "top10hashtags_vec = vec[:,hashtag_indicies[hashtags_rank_indicies[:10]]].toarray()"
   ]
  },
  {
   "cell_type": "code",
   "execution_count": 17,
   "metadata": {},
   "outputs": [
    {
     "data": {
      "text/plain": [
       "['@who',\n",
       " '@declanoscanlon',\n",
       " '@realdonaldtrump',\n",
       " '@bts_twt',\n",
       " '@drtedros',\n",
       " '@njsenatepres',\n",
       " '@doritmi',\n",
       " '@peterhotez',\n",
       " '@mcfunny',\n",
       " '@cnn',\n",
       " '@janeeopie',\n",
       " '@monstercoyliar',\n",
       " '@cdcgov',\n",
       " '@sheldon_walker_',\n",
       " '@thereal_truther',\n",
       " '@rosewind2007',\n",
       " '@nytimes',\n",
       " '@vingopal',\n",
       " '@beckyjohnson222',\n",
       " '@chrisjohnsonmd']"
      ]
     },
     "execution_count": 17,
     "metadata": {},
     "output_type": "execute_result"
    }
   ],
   "source": [
    "mentions_ranked.tolist()[::1][:20]"
   ]
  },
  {
   "cell_type": "code",
   "execution_count": 18,
   "metadata": {},
   "outputs": [
    {
     "data": {
      "text/plain": [
       "['#coronavirus',\n",
       " '#china',\n",
       " '#wuhan',\n",
       " '#staysafe',\n",
       " '#2019ncov',\n",
       " '#vaccine',\n",
       " '#kashmir',\n",
       " '#wuhanpneumonia',\n",
       " '#breaking',\n",
       " '#vaccineswork',\n",
       " '#sars',\n",
       " '#vaccinesafety',\n",
       " '#hongkong',\n",
       " '#votenos2173',\n",
       " '#flu',\n",
       " '#virus',\n",
       " '#shenzhen',\n",
       " '#pneumonia',\n",
       " '#beijing',\n",
       " '#ปอดอ']"
      ]
     },
     "execution_count": 18,
     "metadata": {},
     "output_type": "execute_result"
    }
   ],
   "source": [
    "hashtags_ranked.tolist()[::1][:20]"
   ]
  },
  {
   "cell_type": "code",
   "execution_count": 19,
   "metadata": {},
   "outputs": [
    {
     "data": {
      "text/plain": [
       "(46201,)"
      ]
     },
     "execution_count": 19,
     "metadata": {},
     "output_type": "execute_result"
    }
   ],
   "source": [
    "mention_indicies[mentions_rank_indicies[:-10]].shape"
   ]
  },
  {
   "cell_type": "code",
   "execution_count": 20,
   "metadata": {},
   "outputs": [
    {
     "data": {
      "text/plain": [
       "(616837, 10)"
      ]
     },
     "execution_count": 20,
     "metadata": {},
     "output_type": "execute_result"
    }
   ],
   "source": [
    "vec[:,mention_indicies[mentions_rank_indicies[:10]]].toarray().shape"
   ]
  },
  {
   "cell_type": "code",
   "execution_count": 26,
   "metadata": {},
   "outputs": [],
   "source": [
    "df_t['mention_WHO'] = top10mentions_vec[:,0]\n",
    "df_t['tag_CORONAVIRUS'] = top10hashtags_vec[:,0]"
   ]
  },
  {
   "cell_type": "code",
   "execution_count": 27,
   "metadata": {},
   "outputs": [
    {
     "data": {
      "text/html": [
       "<div>\n",
       "<style scoped>\n",
       "    .dataframe tbody tr th:only-of-type {\n",
       "        vertical-align: middle;\n",
       "    }\n",
       "\n",
       "    .dataframe tbody tr th {\n",
       "        vertical-align: top;\n",
       "    }\n",
       "\n",
       "    .dataframe thead th {\n",
       "        text-align: right;\n",
       "    }\n",
       "</style>\n",
       "<table border=\"1\" class=\"dataframe\">\n",
       "  <thead>\n",
       "    <tr style=\"text-align: right;\">\n",
       "      <th></th>\n",
       "      <th>rt_author_id</th>\n",
       "      <th>t_author_id</th>\n",
       "      <th>rt_text</th>\n",
       "      <th>t_text</th>\n",
       "      <th>mention_WHO</th>\n",
       "      <th>tag_CORONAVIRUS</th>\n",
       "    </tr>\n",
       "  </thead>\n",
       "  <tbody>\n",
       "    <tr>\n",
       "      <th>3280</th>\n",
       "      <td>1105064943794245632</td>\n",
       "      <td>1.415915e+07</td>\n",
       "      <td>@UN @WHO Yup but Kashmir issues where are you?...</td>\n",
       "      <td>As you start a new year, check out these 12 ti...</td>\n",
       "      <td>1</td>\n",
       "      <td>0</td>\n",
       "    </tr>\n",
       "    <tr>\n",
       "      <th>4881</th>\n",
       "      <td>2476070574</td>\n",
       "      <td>1.174222e+18</td>\n",
       "      <td>RT @TBG9270584: Maine Puts Vaccine Mandates to...</td>\n",
       "      <td>Maine Puts Vaccine Mandates to a Popular Vote ...</td>\n",
       "      <td>1</td>\n",
       "      <td>0</td>\n",
       "    </tr>\n",
       "    <tr>\n",
       "      <th>5490</th>\n",
       "      <td>1183658840077680640</td>\n",
       "      <td>1.174222e+18</td>\n",
       "      <td>RT @TBG9270584: Maine Puts Vaccine Mandates to...</td>\n",
       "      <td>Maine Puts Vaccine Mandates to a Popular Vote ...</td>\n",
       "      <td>1</td>\n",
       "      <td>0</td>\n",
       "    </tr>\n",
       "    <tr>\n",
       "      <th>6627</th>\n",
       "      <td>802504367245066240</td>\n",
       "      <td>4.476308e+07</td>\n",
       "      <td>RT @PATHtweets: With a recent approval from @W...</td>\n",
       "      <td>With a recent approval from @WHO, a high-quali...</td>\n",
       "      <td>1</td>\n",
       "      <td>0</td>\n",
       "    </tr>\n",
       "    <tr>\n",
       "      <th>6841</th>\n",
       "      <td>1001089655758979072</td>\n",
       "      <td>2.090449e+07</td>\n",
       "      <td>RT @jesswade: 🇨🇦💉Meet Prof Noni MacDonald, gam...</td>\n",
       "      <td>🇨🇦💉Meet Prof Noni MacDonald, gamechanging paed...</td>\n",
       "      <td>1</td>\n",
       "      <td>0</td>\n",
       "    </tr>\n",
       "    <tr>\n",
       "      <th>...</th>\n",
       "      <td>...</td>\n",
       "      <td>...</td>\n",
       "      <td>...</td>\n",
       "      <td>...</td>\n",
       "      <td>...</td>\n",
       "      <td>...</td>\n",
       "    </tr>\n",
       "    <tr>\n",
       "      <th>772187</th>\n",
       "      <td>2321485776</td>\n",
       "      <td>7.587032e+06</td>\n",
       "      <td>RT @SkyNews: The death toll from a measles epi...</td>\n",
       "      <td>The death toll from a measles epidemic in the ...</td>\n",
       "      <td>1</td>\n",
       "      <td>0</td>\n",
       "    </tr>\n",
       "    <tr>\n",
       "      <th>773518</th>\n",
       "      <td>414359347</td>\n",
       "      <td>9.311568e+07</td>\n",
       "      <td>RT @GaviSeth: Great list by @HelenBranswell. T...</td>\n",
       "      <td>Great list by @HelenBranswell. The Ervebo #Ebo...</td>\n",
       "      <td>1</td>\n",
       "      <td>0</td>\n",
       "    </tr>\n",
       "    <tr>\n",
       "      <th>774472</th>\n",
       "      <td>476068136</td>\n",
       "      <td>9.311568e+07</td>\n",
       "      <td>RT @GaviSeth: Great list by @HelenBranswell. T...</td>\n",
       "      <td>Great list by @HelenBranswell. The Ervebo #Ebo...</td>\n",
       "      <td>1</td>\n",
       "      <td>0</td>\n",
       "    </tr>\n",
       "    <tr>\n",
       "      <th>774711</th>\n",
       "      <td>1322115199</td>\n",
       "      <td>1.224144e+08</td>\n",
       "      <td>I will never forget that moment @HopeLizzy. Wh...</td>\n",
       "      <td>The @WHO designated 2020 as the #YearoftheNurs...</td>\n",
       "      <td>1</td>\n",
       "      <td>0</td>\n",
       "    </tr>\n",
       "    <tr>\n",
       "      <th>775518</th>\n",
       "      <td>1173286656</td>\n",
       "      <td>7.039767e+17</td>\n",
       "      <td>RT @scleroplex: One more detailed report from ...</td>\n",
       "      <td>One more detailed report from @HelenBranswell ...</td>\n",
       "      <td>1</td>\n",
       "      <td>0</td>\n",
       "    </tr>\n",
       "  </tbody>\n",
       "</table>\n",
       "<p>8579 rows × 6 columns</p>\n",
       "</div>"
      ],
      "text/plain": [
       "               rt_author_id   t_author_id  \\\n",
       "3280    1105064943794245632  1.415915e+07   \n",
       "4881             2476070574  1.174222e+18   \n",
       "5490    1183658840077680640  1.174222e+18   \n",
       "6627     802504367245066240  4.476308e+07   \n",
       "6841    1001089655758979072  2.090449e+07   \n",
       "...                     ...           ...   \n",
       "772187           2321485776  7.587032e+06   \n",
       "773518            414359347  9.311568e+07   \n",
       "774472            476068136  9.311568e+07   \n",
       "774711           1322115199  1.224144e+08   \n",
       "775518           1173286656  7.039767e+17   \n",
       "\n",
       "                                                  rt_text  \\\n",
       "3280    @UN @WHO Yup but Kashmir issues where are you?...   \n",
       "4881    RT @TBG9270584: Maine Puts Vaccine Mandates to...   \n",
       "5490    RT @TBG9270584: Maine Puts Vaccine Mandates to...   \n",
       "6627    RT @PATHtweets: With a recent approval from @W...   \n",
       "6841    RT @jesswade: 🇨🇦💉Meet Prof Noni MacDonald, gam...   \n",
       "...                                                   ...   \n",
       "772187  RT @SkyNews: The death toll from a measles epi...   \n",
       "773518  RT @GaviSeth: Great list by @HelenBranswell. T...   \n",
       "774472  RT @GaviSeth: Great list by @HelenBranswell. T...   \n",
       "774711  I will never forget that moment @HopeLizzy. Wh...   \n",
       "775518  RT @scleroplex: One more detailed report from ...   \n",
       "\n",
       "                                                   t_text  mention_WHO  \\\n",
       "3280    As you start a new year, check out these 12 ti...            1   \n",
       "4881    Maine Puts Vaccine Mandates to a Popular Vote ...            1   \n",
       "5490    Maine Puts Vaccine Mandates to a Popular Vote ...            1   \n",
       "6627    With a recent approval from @WHO, a high-quali...            1   \n",
       "6841    🇨🇦💉Meet Prof Noni MacDonald, gamechanging paed...            1   \n",
       "...                                                   ...          ...   \n",
       "772187  The death toll from a measles epidemic in the ...            1   \n",
       "773518  Great list by @HelenBranswell. The Ervebo #Ebo...            1   \n",
       "774472  Great list by @HelenBranswell. The Ervebo #Ebo...            1   \n",
       "774711  The @WHO designated 2020 as the #YearoftheNurs...            1   \n",
       "775518  One more detailed report from @HelenBranswell ...            1   \n",
       "\n",
       "        tag_CORONAVIRUS  \n",
       "3280                  0  \n",
       "4881                  0  \n",
       "5490                  0  \n",
       "6627                  0  \n",
       "6841                  0  \n",
       "...                 ...  \n",
       "772187                0  \n",
       "773518                0  \n",
       "774472                0  \n",
       "774711                0  \n",
       "775518                0  \n",
       "\n",
       "[8579 rows x 6 columns]"
      ]
     },
     "execution_count": 27,
     "metadata": {},
     "output_type": "execute_result"
    }
   ],
   "source": [
    "df_t[df_t.mention_WHO>0]"
   ]
  },
  {
   "cell_type": "code",
   "execution_count": null,
   "metadata": {},
   "outputs": [],
   "source": [
    "# df_t[df_t.tag_CORONAVIRUS>0]"
   ]
  },
  {
   "cell_type": "code",
   "execution_count": null,
   "metadata": {},
   "outputs": [],
   "source": [
    "# df_rt.to_csv('df_t_top_mntns_and_hashtags_jan_1-21.csv', index=False, sep=',')"
   ]
  },
  {
   "cell_type": "code",
   "execution_count": null,
   "metadata": {},
   "outputs": [],
   "source": [
    "# data[data['rt_text'].astype(str).str.contains(\"@who|WHO\")]\n",
    "# df_rt[(df_rt['rt_text'].astype(str).str.contains(\"@who|WHO\")) & (data['t_text'].astype(str).str.contains(\"@who|WHO\"))][['rt_author_id', 't_author_id', 'rt_text', 't_text']]"
   ]
  },
  {
   "cell_type": "code",
   "execution_count": null,
   "metadata": {},
   "outputs": [],
   "source": [
    "# data[(data['rt_text'].astype(str).str.contains(\"#coronavirus|coronavirus|corona|#corona\")) & (data['t_text'].astype(str).str.contains(\"#coronavirus|coronavirus|corona|#corona\"))][['rt_author_id', 't_author_id', 'rt_text', 't_text']]"
   ]
  },
  {
   "cell_type": "code",
   "execution_count": null,
   "metadata": {},
   "outputs": [],
   "source": [
    "# get top 10 most frequent values\n",
    "# data['t_author_id'].value_counts().index.tolist()[:10]"
   ]
  },
  {
   "cell_type": "code",
   "execution_count": null,
   "metadata": {},
   "outputs": [],
   "source": [
    "# data.loc[np.logical_and(df.t_text == '@coronavirus', df.rt_text == '@who')]\n",
    "# data.loc[df.rt_text =='@who'][['rt_author_id', 't_author_id', 'rt_text', 't_text']]"
   ]
  }
 ],
 "metadata": {
  "kernelspec": {
   "display_name": "Python 3",
   "language": "python",
   "name": "python3"
  },
  "language_info": {
   "codemirror_mode": {
    "name": "ipython",
    "version": 3
   },
   "file_extension": ".py",
   "mimetype": "text/x-python",
   "name": "python",
   "nbconvert_exporter": "python",
   "pygments_lexer": "ipython3",
   "version": "3.9.2"
  }
 },
 "nbformat": 4,
 "nbformat_minor": 4
}
