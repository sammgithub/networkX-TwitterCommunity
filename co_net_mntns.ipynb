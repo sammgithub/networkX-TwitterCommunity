{
 "cells": [
  {
   "cell_type": "code",
   "execution_count": 12,
   "metadata": {},
   "outputs": [
    {
     "name": "stderr",
     "output_type": "stream",
     "text": [
      "WARNING: pip is being invoked by an old script wrapper. This will fail in a future version of pip.\n",
      "Please see https://github.com/pypa/pip/issues/5599 for advice on fixing the underlying issue.\n",
      "To avoid this problem you can invoke Python with '-m pip' instead of running pip directly.\n"
     ]
    },
    {
     "name": "stdout",
     "output_type": "stream",
     "text": [
      "Requirement already satisfied: community in /usr/local/Cellar/jupyterlab/3.0.12/libexec/lib/python3.9/site-packages (1.0.0b1)\n",
      "Requirement already satisfied: Flask in /usr/local/Cellar/jupyterlab/3.0.12/libexec/lib/python3.9/site-packages (from community) (2.0.0)\n",
      "Requirement already satisfied: requests in /usr/local/Cellar/jupyterlab/3.0.12/libexec/lib/python3.9/site-packages (from community) (2.15.1)\n",
      "Requirement already satisfied: Werkzeug>=2.0 in /usr/local/Cellar/jupyterlab/3.0.12/libexec/lib/python3.9/site-packages (from Flask->community) (2.0.0)\n",
      "Requirement already satisfied: Jinja2>=3.0 in /usr/local/Cellar/jupyterlab/3.0.12/libexec/lib/python3.9/site-packages (from Flask->community) (3.0.0)\n",
      "Requirement already satisfied: itsdangerous>=2.0 in /usr/local/Cellar/jupyterlab/3.0.12/libexec/lib/python3.9/site-packages (from Flask->community) (2.0.0)\n",
      "Requirement already satisfied: click>=7.1.2 in /usr/local/Cellar/jupyterlab/3.0.12/libexec/lib/python3.9/site-packages (from Flask->community) (8.0.0)\n",
      "Requirement already satisfied: MarkupSafe>=2.0.0rc2 in /usr/local/Cellar/jupyterlab/3.0.12/libexec/lib/python3.9/site-packages (from Jinja2>=3.0->Flask->community) (2.0.0)\n"
     ]
    },
    {
     "name": "stderr",
     "output_type": "stream",
     "text": [
      "WARNING: You are using pip version 21.0.1; however, version 21.1.1 is available.\n",
      "You should consider upgrading via the '/usr/local/Cellar/jupyterlab/3.0.12/libexec/bin/python3.9 -m pip install --upgrade pip' command.\n"
     ]
    },
    {
     "data": {
      "text/plain": [
       "0"
      ]
     },
     "execution_count": 12,
     "metadata": {},
     "output_type": "execute_result"
    }
   ],
   "source": [
    "# !pip3 install --upgrade networkx\n",
    "import pip\n",
    "pip.main(['install','--upgrade', 'community'])\n"
   ]
  },
  {
   "cell_type": "code",
   "execution_count": 7,
   "metadata": {},
   "outputs": [],
   "source": [
    "import pandas as pd\n",
    "import networkx as nx\n",
    "import community as community_louvain\n",
    "import matplotlib.cm as cm\n",
    "import matplotlib.pyplot as plt\n",
    "# import collections\n",
    "# import community"
   ]
  },
  {
   "cell_type": "code",
   "execution_count": 8,
   "metadata": {},
   "outputs": [],
   "source": [
    "df_co = pd.read_csv('df_co_tags_jan_1-21_300test.csv', encoding='utf8')"
   ]
  },
  {
   "cell_type": "code",
   "execution_count": 9,
   "metadata": {},
   "outputs": [],
   "source": [
    "R = nx.from_pandas_edgelist(df_co,'t_author_id','rt_author_id', edge_attr='CO_tags_words_weight', create_using=nx.Graph()) ##, create_using=nx.DiGraph() ##, create_using=nx.MultiGraph()"
   ]
  },
  {
   "cell_type": "code",
   "execution_count": 10,
   "metadata": {},
   "outputs": [],
   "source": [
    "rt_count = [i['CO_tags_words_weight'] for i in dict(R.edges).values()]\n",
    "# labels = [i for i in dict(R.nodes).keys()]\n",
    "# labels = {i:i for i in dict(R.nodes).keys()}\n",
    "labels = {e: R.edges[e]['CO_tags_words_weight'] for e in R.edges}"
   ]
  },
  {
   "cell_type": "code",
   "execution_count": 13,
   "metadata": {},
   "outputs": [
    {
     "ename": "AttributeError",
     "evalue": "module 'community' has no attribute 'best_partition'",
     "output_type": "error",
     "traceback": [
      "\u001b[0;31m---------------------------------------------------------------------------\u001b[0m",
      "\u001b[0;31mAttributeError\u001b[0m                            Traceback (most recent call last)",
      "\u001b[0;32m<ipython-input-13-2e7aa26d5325>\u001b[0m in \u001b[0;36m<module>\u001b[0;34m\u001b[0m\n\u001b[1;32m      2\u001b[0m \u001b[0;31m# import collections\u001b[0m\u001b[0;34m\u001b[0m\u001b[0;34m\u001b[0m\u001b[0;34m\u001b[0m\u001b[0m\n\u001b[1;32m      3\u001b[0m \u001b[0;34m\u001b[0m\u001b[0m\n\u001b[0;32m----> 4\u001b[0;31m \u001b[0mpartition\u001b[0m \u001b[0;34m=\u001b[0m \u001b[0mcommunity\u001b[0m\u001b[0;34m.\u001b[0m\u001b[0mbest_partition\u001b[0m\u001b[0;34m(\u001b[0m\u001b[0mR\u001b[0m\u001b[0;34m)\u001b[0m\u001b[0;34m\u001b[0m\u001b[0;34m\u001b[0m\u001b[0m\n\u001b[0m\u001b[1;32m      5\u001b[0m \u001b[0mvalues\u001b[0m \u001b[0;34m=\u001b[0m \u001b[0;34m[\u001b[0m\u001b[0mpartition\u001b[0m\u001b[0;34m.\u001b[0m\u001b[0mget\u001b[0m\u001b[0;34m(\u001b[0m\u001b[0mnode\u001b[0m\u001b[0;34m)\u001b[0m \u001b[0;32mfor\u001b[0m \u001b[0mnode\u001b[0m \u001b[0;32min\u001b[0m \u001b[0mR\u001b[0m\u001b[0;34m.\u001b[0m\u001b[0mnodes\u001b[0m\u001b[0;34m(\u001b[0m\u001b[0;34m)\u001b[0m\u001b[0;34m]\u001b[0m\u001b[0;34m\u001b[0m\u001b[0;34m\u001b[0m\u001b[0m\n\u001b[1;32m      6\u001b[0m \u001b[0mcounter\u001b[0m\u001b[0;34m=\u001b[0m\u001b[0mcollections\u001b[0m\u001b[0;34m.\u001b[0m\u001b[0mCounter\u001b[0m\u001b[0;34m(\u001b[0m\u001b[0mvalues\u001b[0m\u001b[0;34m)\u001b[0m\u001b[0;34m\u001b[0m\u001b[0;34m\u001b[0m\u001b[0m\n",
      "\u001b[0;31mAttributeError\u001b[0m: module 'community' has no attribute 'best_partition'"
     ]
    }
   ],
   "source": [
    "# import community\n",
    "# import collections\n",
    "\n",
    "partition = community.best_partition(R)\n",
    "values = [partition.get(node) for node in R.nodes()]\n",
    "counter=collections.Counter(values)\n",
    "# print(counter)\n",
    "\n",
    "plt.subplots(figsize=(18,15))\n",
    "sp = nx.spring_layout(R)\n",
    "nx.draw_networkx(R, pos=sp, with_labels=False, node_size=35, node_color=values)\n",
    "# plt.axes('off')\n",
    "# fig1 = plt.gcf()\n",
    "plt.title(label=\"Graph plotted by identifying node similarities using MENTIONS(e.g., @covid/@corona/@pandemic)\", fontsize=16) ## , color=\"green\"\n",
    "fig1 = plt.gcf()\n",
    "plt.show()\n",
    "fig1.savefig('Undirected_net_for_Mentions.png')"
   ]
  },
  {
   "cell_type": "code",
   "execution_count": null,
   "metadata": {},
   "outputs": [],
   "source": [
    "dict_degrees = dict(nx.degree(R))\n",
    "degree_vals_g1 = dict_degrees.values()\n",
    "degree_vals_vtx = dict_degrees.keys()\n",
    "degvals = plt.hist(degree_vals_g1, bins=100)\n",
    "plt.xlabel('degree of node')\n",
    "plt.ylabel('number of nodes with degree')"
   ]
  },
  {
   "cell_type": "code",
   "execution_count": null,
   "metadata": {},
   "outputs": [],
   "source": [
    "import networkx.algorithms.community as nxcom\n",
    "communities = sorted(nxcom.greedy_modularity_communities(R), key=len, reverse=True)\n",
    "len(communities)"
   ]
  },
  {
   "cell_type": "code",
   "execution_count": null,
   "metadata": {},
   "outputs": [],
   "source": [
    "##Girvan-Newman Community Detection ## https://orbifold.net/default/community-detection-using-networkx/\n",
    "result = nxcom.girvan_newman(R)\n",
    "communities = next(result)\n",
    "len(communities)"
   ]
  },
  {
   "cell_type": "code",
   "execution_count": null,
   "metadata": {},
   "outputs": [],
   "source": [
    "# Compute the betweenness centrality of G: bet_cen\n",
    "bet_cen = nx.betweenness_centrality(R)\n",
    "# Compute the degree centrality of G: deg_cen\n",
    "deg_cen = nx.degree_centrality(R)\n",
    "# Compute the page rank of G: page_rank\n",
    "page_rank = nx.pagerank(R)\n",
    "# Compute the closeness centrality of G: clos_cen\n",
    "clos_cen = nx.closeness_centrality(R)\n",
    "# Compute the eigenvector centrality of G: clos_cen\n",
    "eigen_cen = nx.eigenvector_centrality(R)\n",
    "\n",
    "print(nx.info(R))"
   ]
  },
  {
   "cell_type": "code",
   "execution_count": null,
   "metadata": {},
   "outputs": [],
   "source": [
    "# list(nx.degree(R)) ##G.degree() ##Degree: Measures number of incoming/outgoing connections\n",
    "sorted(R.degree, key=lambda x: x[1], reverse=True)[0:10] ##Sort graph nodes according to their degree"
   ]
  },
  {
   "cell_type": "code",
   "execution_count": null,
   "metadata": {},
   "outputs": [],
   "source": [
    "sorted(deg_cen.items(), key=lambda x:x[1], reverse=True)[0:10] ##The degree centrality of a node is simply its degree—the number of edges it has. \n",
    "## The higher the degree, the more central the node is. (i.e., the number of ties that a node has)"
   ]
  },
  {
   "cell_type": "code",
   "execution_count": null,
   "metadata": {},
   "outputs": [],
   "source": [
    "sorted(bet_cen.items(), key=lambda x:x[1], reverse=True)[0:10] ## The betweenness centrality of a node is an indicator of its centrality or importance in the network. \n",
    "## It is described as the number of shortest paths from all the vertices to all the other vertices in the network that pass through the node in consideration (Brandes 2001)"
   ]
  },
  {
   "cell_type": "code",
   "execution_count": null,
   "metadata": {},
   "outputs": [],
   "source": [
    "sorted(page_rank.items(), key=lambda x:x[1], reverse=True)[0:10] ## The PageRank algorithm measures the importance of each node within the graph, \n",
    "## based on the number incoming relationships and the importance of the corresponding source nodes."
   ]
  },
  {
   "cell_type": "code",
   "execution_count": null,
   "metadata": {},
   "outputs": [],
   "source": [
    "sorted(clos_cen.items(), key=lambda x:x[1], reverse=True)[0:10] ##Closeness: Measures how quickly (minimum number of steps) can one connect to others in the network"
   ]
  },
  {
   "cell_type": "code",
   "execution_count": null,
   "metadata": {},
   "outputs": [],
   "source": [
    "sorted(eigen_cen.items(), key=lambda x:x[1], reverse=True)[0:10] ## Eigenvector: Measures a trader’s connection to those who are highly connected. \n",
    "## A person with a high score will be someone who is influencing multiple players (who in turn are highly connected) and is exercising control behind the scenes."
   ]
  },
  {
   "cell_type": "code",
   "execution_count": null,
   "metadata": {},
   "outputs": [],
   "source": [
    "##maximum weighted edge in a networkx\n",
    "sorted(R.edges(data=True),key= lambda x: x[2]['CO_mntns_words_weight'],reverse=True)[:10] ## G.edges(data=True) ##access edges, including their attributes"
   ]
  },
  {
   "cell_type": "code",
   "execution_count": null,
   "metadata": {
    "scrolled": true
   },
   "outputs": [],
   "source": [
    "sorted(list(nx.all_pairs_shortest_path(R)))##, reverse=True"
   ]
  },
  {
   "cell_type": "code",
   "execution_count": null,
   "metadata": {},
   "outputs": [],
   "source": [
    "import networkx.algorithms.community as nxcom\n",
    "communities = sorted(nxcom.greedy_modularity_communities(R), key=len, reverse=True)\n",
    "len(communities)"
   ]
  },
  {
   "cell_type": "code",
   "execution_count": null,
   "metadata": {},
   "outputs": [],
   "source": [
    "##Girvan-Newman Community Detection ## https://orbifold.net/default/community-detection-using-networkx/\n",
    "result = nxcom.girvan_newman(R)\n",
    "communities = next(result)\n",
    "len(communities)"
   ]
  },
  {
   "cell_type": "code",
   "execution_count": null,
   "metadata": {},
   "outputs": [],
   "source": []
  }
 ],
 "metadata": {
  "kernelspec": {
   "display_name": "Python 3",
   "language": "python",
   "name": "python3"
  },
  "language_info": {
   "codemirror_mode": {
    "name": "ipython",
    "version": 3
   },
   "file_extension": ".py",
   "mimetype": "text/x-python",
   "name": "python",
   "nbconvert_exporter": "python",
   "pygments_lexer": "ipython3",
   "version": "3.9.2"
  }
 },
 "nbformat": 4,
 "nbformat_minor": 4
}
