{
 "cells": [
  {
   "cell_type": "code",
   "execution_count": 1,
   "id": "israeli-trigger",
   "metadata": {},
   "outputs": [],
   "source": [
    "# import pip\n",
    "\n",
    "# def install(package):\n",
    "#     if hasattr(pip, 'main'):\n",
    "#         pip.main(['install', package])\n",
    "#     else:\n",
    "#         pip._internal.main(['install', package])\n",
    "\n",
    "# # Example\n",
    "# install('scikit-learn')"
   ]
  },
  {
   "cell_type": "code",
   "execution_count": 2,
   "id": "developing-tiffany",
   "metadata": {},
   "outputs": [],
   "source": [
    "import pandas as pd\n",
    "import matplotlib as plt\n",
    "import numpy as np"
   ]
  },
  {
   "cell_type": "code",
   "execution_count": 3,
   "id": "right-clause",
   "metadata": {},
   "outputs": [],
   "source": [
    "# pd.np.set_printoptions(suppress=True)"
   ]
  },
  {
   "cell_type": "code",
   "execution_count": 4,
   "id": "humanitarian-liabilities",
   "metadata": {},
   "outputs": [],
   "source": [
    "pd.set_option('display.max_columns', None)"
   ]
  },
  {
   "cell_type": "code",
   "execution_count": 5,
   "id": "informative-lotus",
   "metadata": {},
   "outputs": [
    {
     "name": "stderr",
     "output_type": "stream",
     "text": [
      "/usr/local/Cellar/jupyterlab/3.0.12/libexec/lib/python3.9/site-packages/IPython/core/interactiveshell.py:3165: DtypeWarning: Columns (29) have mixed types.Specify dtype option on import or set low_memory=False.\n",
      "  has_raised = await self.run_ast_nodes(code_ast.body, cell_name,\n"
     ]
    }
   ],
   "source": [
    "df = pd.read_csv('jan20_01-21_000000-235959.csv')"
   ]
  },
  {
   "cell_type": "code",
   "execution_count": 6,
   "id": "understanding-title",
   "metadata": {},
   "outputs": [],
   "source": [
    "df = df[['rt_author_id', 't_author_id', 'rt_text', 't_text']]"
   ]
  },
  {
   "cell_type": "code",
   "execution_count": 7,
   "id": "collectible-diploma",
   "metadata": {},
   "outputs": [
    {
     "data": {
      "text/html": [
       "<div>\n",
       "<style scoped>\n",
       "    .dataframe tbody tr th:only-of-type {\n",
       "        vertical-align: middle;\n",
       "    }\n",
       "\n",
       "    .dataframe tbody tr th {\n",
       "        vertical-align: top;\n",
       "    }\n",
       "\n",
       "    .dataframe thead th {\n",
       "        text-align: right;\n",
       "    }\n",
       "</style>\n",
       "<table border=\"1\" class=\"dataframe\">\n",
       "  <thead>\n",
       "    <tr style=\"text-align: right;\">\n",
       "      <th></th>\n",
       "      <th>rt_author_id</th>\n",
       "      <th>t_author_id</th>\n",
       "      <th>rt_text</th>\n",
       "      <th>t_text</th>\n",
       "    </tr>\n",
       "  </thead>\n",
       "  <tbody>\n",
       "    <tr>\n",
       "      <th>0</th>\n",
       "      <td>28967452</td>\n",
       "      <td>2.802593e+07</td>\n",
       "      <td>RT @vmyths: FYI, I'm going to drive home on Fl...</td>\n",
       "      <td>FYI, I'm going to drive home on Florida's Turn...</td>\n",
       "    </tr>\n",
       "    <tr>\n",
       "      <th>1</th>\n",
       "      <td>57283792</td>\n",
       "      <td>1.665058e+08</td>\n",
       "      <td>@ardnif Dindin kebanjiran?? Staysafe yaaa Din 😘</td>\n",
       "      <td>isi powerbank cuma pas mau ngonser atau pergi ...</td>\n",
       "    </tr>\n",
       "    <tr>\n",
       "      <th>2</th>\n",
       "      <td>211845768</td>\n",
       "      <td>2.261946e+08</td>\n",
       "      <td>Except you can’t sue vaccine manufacturers htt...</td>\n",
       "      <td>Just heard a medicine commercial say “If you h...</td>\n",
       "    </tr>\n",
       "    <tr>\n",
       "      <th>3</th>\n",
       "      <td>119321075</td>\n",
       "      <td>9.541244e+08</td>\n",
       "      <td>RT @AmyMek: Happy New Year from Sharia Sweden....</td>\n",
       "      <td>Happy New Year from Sharia Sweden...\\n\\n'Gang ...</td>\n",
       "    </tr>\n",
       "    <tr>\n",
       "      <th>4</th>\n",
       "      <td>1391090496</td>\n",
       "      <td>9.541244e+08</td>\n",
       "      <td>RT @AmyMek: Happy New Year from Sharia Sweden....</td>\n",
       "      <td>Happy New Year from Sharia Sweden...\\n\\n'Gang ...</td>\n",
       "    </tr>\n",
       "    <tr>\n",
       "      <th>...</th>\n",
       "      <td>...</td>\n",
       "      <td>...</td>\n",
       "      <td>...</td>\n",
       "      <td>...</td>\n",
       "    </tr>\n",
       "    <tr>\n",
       "      <th>782916</th>\n",
       "      <td>1148252342048952322</td>\n",
       "      <td>9.070342e+17</td>\n",
       "      <td>RT @AesopsFableFly: ——— BTS LOCKDOWN ———\\n\\nwh...</td>\n",
       "      <td>——— BTS LOCKDOWN ———\\n\\nwhat is a bts lockdown...</td>\n",
       "    </tr>\n",
       "    <tr>\n",
       "      <th>782917</th>\n",
       "      <td>23948496</td>\n",
       "      <td>NaN</td>\n",
       "      <td>A resident of West Courthouse Road found Coope...</td>\n",
       "      <td>NaN</td>\n",
       "    </tr>\n",
       "    <tr>\n",
       "      <th>782918</th>\n",
       "      <td>306412670</td>\n",
       "      <td>NaN</td>\n",
       "      <td>#Zambia has 17 million people, a stroke epidem...</td>\n",
       "      <td>NaN</td>\n",
       "    </tr>\n",
       "    <tr>\n",
       "      <th>782919</th>\n",
       "      <td>632909553</td>\n",
       "      <td>9.070342e+17</td>\n",
       "      <td>RT @AesopsFableFly: ——— BTS LOCKDOWN ———\\n\\nwh...</td>\n",
       "      <td>——— BTS LOCKDOWN ———\\n\\nwhat is a bts lockdown...</td>\n",
       "    </tr>\n",
       "    <tr>\n",
       "      <th>782920</th>\n",
       "      <td>352051593</td>\n",
       "      <td>NaN</td>\n",
       "      <td>四種混合（百日せき、ジフテリア、破傷風、ポリオ）予防接種の接種対象年齢は、生後３か月から90...</td>\n",
       "      <td>NaN</td>\n",
       "    </tr>\n",
       "  </tbody>\n",
       "</table>\n",
       "<p>782921 rows × 4 columns</p>\n",
       "</div>"
      ],
      "text/plain": [
       "               rt_author_id   t_author_id  \\\n",
       "0                  28967452  2.802593e+07   \n",
       "1                  57283792  1.665058e+08   \n",
       "2                 211845768  2.261946e+08   \n",
       "3                 119321075  9.541244e+08   \n",
       "4                1391090496  9.541244e+08   \n",
       "...                     ...           ...   \n",
       "782916  1148252342048952322  9.070342e+17   \n",
       "782917             23948496           NaN   \n",
       "782918            306412670           NaN   \n",
       "782919            632909553  9.070342e+17   \n",
       "782920            352051593           NaN   \n",
       "\n",
       "                                                  rt_text  \\\n",
       "0       RT @vmyths: FYI, I'm going to drive home on Fl...   \n",
       "1         @ardnif Dindin kebanjiran?? Staysafe yaaa Din 😘   \n",
       "2       Except you can’t sue vaccine manufacturers htt...   \n",
       "3       RT @AmyMek: Happy New Year from Sharia Sweden....   \n",
       "4       RT @AmyMek: Happy New Year from Sharia Sweden....   \n",
       "...                                                   ...   \n",
       "782916  RT @AesopsFableFly: ——— BTS LOCKDOWN ———\\n\\nwh...   \n",
       "782917  A resident of West Courthouse Road found Coope...   \n",
       "782918  #Zambia has 17 million people, a stroke epidem...   \n",
       "782919  RT @AesopsFableFly: ——— BTS LOCKDOWN ———\\n\\nwh...   \n",
       "782920  四種混合（百日せき、ジフテリア、破傷風、ポリオ）予防接種の接種対象年齢は、生後３か月から90...   \n",
       "\n",
       "                                                   t_text  \n",
       "0       FYI, I'm going to drive home on Florida's Turn...  \n",
       "1       isi powerbank cuma pas mau ngonser atau pergi ...  \n",
       "2       Just heard a medicine commercial say “If you h...  \n",
       "3       Happy New Year from Sharia Sweden...\\n\\n'Gang ...  \n",
       "4       Happy New Year from Sharia Sweden...\\n\\n'Gang ...  \n",
       "...                                                   ...  \n",
       "782916  ——— BTS LOCKDOWN ———\\n\\nwhat is a bts lockdown...  \n",
       "782917                                                NaN  \n",
       "782918                                                NaN  \n",
       "782919  ——— BTS LOCKDOWN ———\\n\\nwhat is a bts lockdown...  \n",
       "782920                                                NaN  \n",
       "\n",
       "[782921 rows x 4 columns]"
      ]
     },
     "execution_count": 7,
     "metadata": {},
     "output_type": "execute_result"
    }
   ],
   "source": [
    "df"
   ]
  },
  {
   "cell_type": "code",
   "execution_count": 8,
   "id": "missing-bathroom",
   "metadata": {},
   "outputs": [],
   "source": [
    "# df.rt_ref_tweet_id.fillna(0).apply(int)"
   ]
  },
  {
   "cell_type": "code",
   "execution_count": 9,
   "id": "transparent-pitch",
   "metadata": {},
   "outputs": [
    {
     "data": {
      "text/plain": [
       "\"FYI, I'm going to drive home on Florida's Turnpike with a code that QR-enabled license plate readers will log in their ASCII databases ... which could trigger #antivirus software to QUARANTINE those databases 🥳 https://t.co/L2sYfgIxUH\""
      ]
     },
     "execution_count": 9,
     "metadata": {},
     "output_type": "execute_result"
    }
   ],
   "source": [
    "df.t_text[0]"
   ]
  },
  {
   "cell_type": "code",
   "execution_count": 10,
   "id": "alleged-samba",
   "metadata": {},
   "outputs": [],
   "source": [
    "from sklearn.feature_extraction.text import CountVectorizer"
   ]
  },
  {
   "cell_type": "code",
   "execution_count": 11,
   "id": "bound-ozone",
   "metadata": {},
   "outputs": [],
   "source": [
    "cv = CountVectorizer(analyzer='word',token_pattern=r'[\\w\\@\\#]+')"
   ]
  },
  {
   "cell_type": "code",
   "execution_count": 12,
   "id": "senior-style",
   "metadata": {},
   "outputs": [],
   "source": [
    "vec = cv.fit_transform(df.rt_text.dropna().to_numpy())"
   ]
  },
  {
   "cell_type": "code",
   "execution_count": 13,
   "id": "knowing-dairy",
   "metadata": {},
   "outputs": [],
   "source": [
    "# df.rt_text.dropna()"
   ]
  },
  {
   "cell_type": "code",
   "execution_count": 14,
   "id": "fresh-funeral",
   "metadata": {},
   "outputs": [],
   "source": [
    "# df.rt_text.dropna().to_numpy()"
   ]
  },
  {
   "cell_type": "code",
   "execution_count": 15,
   "id": "central-result",
   "metadata": {},
   "outputs": [],
   "source": [
    "# vec[:,0].toarray()"
   ]
  },
  {
   "cell_type": "code",
   "execution_count": 16,
   "id": "otherwise-welsh",
   "metadata": {},
   "outputs": [
    {
     "data": {
      "text/plain": [
       "True"
      ]
     },
     "execution_count": 16,
     "metadata": {},
     "output_type": "execute_result"
    }
   ],
   "source": [
    "'covid' in cv.get_feature_names()"
   ]
  },
  {
   "cell_type": "code",
   "execution_count": 17,
   "id": "dynamic-discovery",
   "metadata": {},
   "outputs": [],
   "source": [
    "# with open('cv.txt', 'w') as f:\n",
    "#     f.write(\"\\n\".join(cv.get_feature_names()))"
   ]
  },
  {
   "cell_type": "code",
   "execution_count": 18,
   "id": "substantial-kernel",
   "metadata": {},
   "outputs": [],
   "source": [
    "kwl = ['covid', 'corona', 'coronavirus','coronavirus#health']"
   ]
  },
  {
   "cell_type": "code",
   "execution_count": 19,
   "id": "bright-going",
   "metadata": {},
   "outputs": [],
   "source": [
    "kwi = [cv.get_feature_names().index(kw) for kw in kwl]"
   ]
  },
  {
   "cell_type": "code",
   "execution_count": 20,
   "id": "social-poster",
   "metadata": {},
   "outputs": [],
   "source": [
    "# print(dir(kwl))"
   ]
  },
  {
   "cell_type": "code",
   "execution_count": 21,
   "id": "bacterial-pepper",
   "metadata": {},
   "outputs": [],
   "source": [
    "# cv.get_feature_names().index('coronavirus')"
   ]
  },
  {
   "cell_type": "code",
   "execution_count": 22,
   "id": "advanced-invitation",
   "metadata": {},
   "outputs": [],
   "source": [
    "# cv.get_feature_names()[90943]"
   ]
  },
  {
   "cell_type": "code",
   "execution_count": 23,
   "id": "tropical-influence",
   "metadata": {},
   "outputs": [],
   "source": [
    "data = vec[:,kwi]"
   ]
  },
  {
   "cell_type": "code",
   "execution_count": 24,
   "id": "toxic-blanket",
   "metadata": {},
   "outputs": [],
   "source": [
    "# data.toarray()"
   ]
  },
  {
   "cell_type": "code",
   "execution_count": 25,
   "id": "green-destiny",
   "metadata": {},
   "outputs": [],
   "source": [
    "df['coronavirus'] = data[:,2].toarray()"
   ]
  },
  {
   "cell_type": "code",
   "execution_count": 26,
   "id": "proved-pennsylvania",
   "metadata": {},
   "outputs": [],
   "source": [
    "# len(cv.get_feature_names())"
   ]
  },
  {
   "cell_type": "code",
   "execution_count": 27,
   "id": "collectible-windsor",
   "metadata": {},
   "outputs": [],
   "source": [
    "# data[:,0].sum() ## from column"
   ]
  },
  {
   "cell_type": "code",
   "execution_count": 28,
   "id": "faced-operator",
   "metadata": {},
   "outputs": [],
   "source": [
    "# data[100].toarray()"
   ]
  },
  {
   "cell_type": "code",
   "execution_count": 29,
   "id": "hydraulic-juvenile",
   "metadata": {},
   "outputs": [
    {
     "data": {
      "text/html": [
       "<div>\n",
       "<style scoped>\n",
       "    .dataframe tbody tr th:only-of-type {\n",
       "        vertical-align: middle;\n",
       "    }\n",
       "\n",
       "    .dataframe tbody tr th {\n",
       "        vertical-align: top;\n",
       "    }\n",
       "\n",
       "    .dataframe thead th {\n",
       "        text-align: right;\n",
       "    }\n",
       "</style>\n",
       "<table border=\"1\" class=\"dataframe\">\n",
       "  <thead>\n",
       "    <tr style=\"text-align: right;\">\n",
       "      <th></th>\n",
       "      <th>rt_author_id</th>\n",
       "      <th>t_author_id</th>\n",
       "      <th>rt_text</th>\n",
       "      <th>t_text</th>\n",
       "      <th>coronavirus</th>\n",
       "    </tr>\n",
       "  </thead>\n",
       "  <tbody>\n",
       "    <tr>\n",
       "      <th>352</th>\n",
       "      <td>1352962327</td>\n",
       "      <td>4.437650e+07</td>\n",
       "      <td>RT @PeterDaszak: @ProMED_mail Still waiting on...</td>\n",
       "      <td>@ProMED_mail Still waiting on news from China....</td>\n",
       "      <td>1</td>\n",
       "    </tr>\n",
       "    <tr>\n",
       "      <th>412</th>\n",
       "      <td>44376499</td>\n",
       "      <td>4.437650e+07</td>\n",
       "      <td>@ProMED_mail Still waiting on news from China....</td>\n",
       "      <td>There is some important and disturbing informa...</td>\n",
       "      <td>1</td>\n",
       "    </tr>\n",
       "    <tr>\n",
       "      <th>1764</th>\n",
       "      <td>1094778392</td>\n",
       "      <td>8.467996e+17</td>\n",
       "      <td>RT @chairvaccines: Middle East respiratory syn...</td>\n",
       "      <td>Middle East respiratory syndrome (MERS) is a v...</td>\n",
       "      <td>1</td>\n",
       "    </tr>\n",
       "    <tr>\n",
       "      <th>2490</th>\n",
       "      <td>313770528</td>\n",
       "      <td>8.467996e+17</td>\n",
       "      <td>RT @chairvaccines: Middle East respiratory syn...</td>\n",
       "      <td>Middle East respiratory syndrome (MERS) is a v...</td>\n",
       "      <td>1</td>\n",
       "    </tr>\n",
       "    <tr>\n",
       "      <th>2518</th>\n",
       "      <td>275504280</td>\n",
       "      <td>8.467996e+17</td>\n",
       "      <td>RT @chairvaccines: Middle East respiratory syn...</td>\n",
       "      <td>Middle East respiratory syndrome (MERS) is a v...</td>\n",
       "      <td>1</td>\n",
       "    </tr>\n",
       "    <tr>\n",
       "      <th>...</th>\n",
       "      <td>...</td>\n",
       "      <td>...</td>\n",
       "      <td>...</td>\n",
       "      <td>...</td>\n",
       "      <td>...</td>\n",
       "    </tr>\n",
       "    <tr>\n",
       "      <th>772310</th>\n",
       "      <td>732787392722182144</td>\n",
       "      <td>7.327874e+17</td>\n",
       "      <td>RT @DelthiaRicks: Novel coronavirus: While cam...</td>\n",
       "      <td>Novel coronavirus: While camels are the reserv...</td>\n",
       "      <td>2</td>\n",
       "    </tr>\n",
       "    <tr>\n",
       "      <th>772441</th>\n",
       "      <td>392357015</td>\n",
       "      <td>NaN</td>\n",
       "      <td>Cryo-EM analysis of a feline coronavirus spike...</td>\n",
       "      <td>NaN</td>\n",
       "      <td>1</td>\n",
       "    </tr>\n",
       "    <tr>\n",
       "      <th>773775</th>\n",
       "      <td>3091462193</td>\n",
       "      <td>4.416085e+09</td>\n",
       "      <td>RT @joostsnijder: Cryo-EM analysis of a feline...</td>\n",
       "      <td>Cryo-EM analysis of a feline coronavirus spike...</td>\n",
       "      <td>1</td>\n",
       "    </tr>\n",
       "    <tr>\n",
       "      <th>775452</th>\n",
       "      <td>1035067362003824640</td>\n",
       "      <td>3.112422e+09</td>\n",
       "      <td>RT @intelOverwatch: Wuhan disease human transm...</td>\n",
       "      <td>Wuhan disease human transmission not ruled out...</td>\n",
       "      <td>1</td>\n",
       "    </tr>\n",
       "    <tr>\n",
       "      <th>780657</th>\n",
       "      <td>4349427974</td>\n",
       "      <td>NaN</td>\n",
       "      <td>What Is Equine Coronavirus? https://t.co/hb9R6...</td>\n",
       "      <td>NaN</td>\n",
       "      <td>1</td>\n",
       "    </tr>\n",
       "  </tbody>\n",
       "</table>\n",
       "<p>167128 rows × 5 columns</p>\n",
       "</div>"
      ],
      "text/plain": [
       "               rt_author_id   t_author_id  \\\n",
       "352              1352962327  4.437650e+07   \n",
       "412                44376499  4.437650e+07   \n",
       "1764             1094778392  8.467996e+17   \n",
       "2490              313770528  8.467996e+17   \n",
       "2518              275504280  8.467996e+17   \n",
       "...                     ...           ...   \n",
       "772310   732787392722182144  7.327874e+17   \n",
       "772441            392357015           NaN   \n",
       "773775           3091462193  4.416085e+09   \n",
       "775452  1035067362003824640  3.112422e+09   \n",
       "780657           4349427974           NaN   \n",
       "\n",
       "                                                  rt_text  \\\n",
       "352     RT @PeterDaszak: @ProMED_mail Still waiting on...   \n",
       "412     @ProMED_mail Still waiting on news from China....   \n",
       "1764    RT @chairvaccines: Middle East respiratory syn...   \n",
       "2490    RT @chairvaccines: Middle East respiratory syn...   \n",
       "2518    RT @chairvaccines: Middle East respiratory syn...   \n",
       "...                                                   ...   \n",
       "772310  RT @DelthiaRicks: Novel coronavirus: While cam...   \n",
       "772441  Cryo-EM analysis of a feline coronavirus spike...   \n",
       "773775  RT @joostsnijder: Cryo-EM analysis of a feline...   \n",
       "775452  RT @intelOverwatch: Wuhan disease human transm...   \n",
       "780657  What Is Equine Coronavirus? https://t.co/hb9R6...   \n",
       "\n",
       "                                                   t_text  coronavirus  \n",
       "352     @ProMED_mail Still waiting on news from China....            1  \n",
       "412     There is some important and disturbing informa...            1  \n",
       "1764    Middle East respiratory syndrome (MERS) is a v...            1  \n",
       "2490    Middle East respiratory syndrome (MERS) is a v...            1  \n",
       "2518    Middle East respiratory syndrome (MERS) is a v...            1  \n",
       "...                                                   ...          ...  \n",
       "772310  Novel coronavirus: While camels are the reserv...            2  \n",
       "772441                                                NaN            1  \n",
       "773775  Cryo-EM analysis of a feline coronavirus spike...            1  \n",
       "775452  Wuhan disease human transmission not ruled out...            1  \n",
       "780657                                                NaN            1  \n",
       "\n",
       "[167128 rows x 5 columns]"
      ]
     },
     "execution_count": 29,
     "metadata": {},
     "output_type": "execute_result"
    }
   ],
   "source": [
    "df[data[:,2].toarray()>0]"
   ]
  },
  {
   "cell_type": "code",
   "execution_count": 30,
   "id": "dress-veteran",
   "metadata": {},
   "outputs": [
    {
     "data": {
      "text/html": [
       "<div>\n",
       "<style scoped>\n",
       "    .dataframe tbody tr th:only-of-type {\n",
       "        vertical-align: middle;\n",
       "    }\n",
       "\n",
       "    .dataframe tbody tr th {\n",
       "        vertical-align: top;\n",
       "    }\n",
       "\n",
       "    .dataframe thead th {\n",
       "        text-align: right;\n",
       "    }\n",
       "</style>\n",
       "<table border=\"1\" class=\"dataframe\">\n",
       "  <thead>\n",
       "    <tr style=\"text-align: right;\">\n",
       "      <th></th>\n",
       "      <th>rt_author_id</th>\n",
       "      <th>t_author_id</th>\n",
       "      <th>rt_text</th>\n",
       "      <th>t_text</th>\n",
       "      <th>coronavirus</th>\n",
       "    </tr>\n",
       "  </thead>\n",
       "  <tbody>\n",
       "    <tr>\n",
       "      <th>0</th>\n",
       "      <td>28967452</td>\n",
       "      <td>2.802593e+07</td>\n",
       "      <td>RT @vmyths: FYI, I'm going to drive home on Fl...</td>\n",
       "      <td>FYI, I'm going to drive home on Florida's Turn...</td>\n",
       "      <td>0</td>\n",
       "    </tr>\n",
       "    <tr>\n",
       "      <th>1</th>\n",
       "      <td>57283792</td>\n",
       "      <td>1.665058e+08</td>\n",
       "      <td>@ardnif Dindin kebanjiran?? Staysafe yaaa Din 😘</td>\n",
       "      <td>isi powerbank cuma pas mau ngonser atau pergi ...</td>\n",
       "      <td>0</td>\n",
       "    </tr>\n",
       "    <tr>\n",
       "      <th>2</th>\n",
       "      <td>211845768</td>\n",
       "      <td>2.261946e+08</td>\n",
       "      <td>Except you can’t sue vaccine manufacturers htt...</td>\n",
       "      <td>Just heard a medicine commercial say “If you h...</td>\n",
       "      <td>0</td>\n",
       "    </tr>\n",
       "    <tr>\n",
       "      <th>3</th>\n",
       "      <td>119321075</td>\n",
       "      <td>9.541244e+08</td>\n",
       "      <td>RT @AmyMek: Happy New Year from Sharia Sweden....</td>\n",
       "      <td>Happy New Year from Sharia Sweden...\\n\\n'Gang ...</td>\n",
       "      <td>0</td>\n",
       "    </tr>\n",
       "    <tr>\n",
       "      <th>4</th>\n",
       "      <td>1391090496</td>\n",
       "      <td>9.541244e+08</td>\n",
       "      <td>RT @AmyMek: Happy New Year from Sharia Sweden....</td>\n",
       "      <td>Happy New Year from Sharia Sweden...\\n\\n'Gang ...</td>\n",
       "      <td>0</td>\n",
       "    </tr>\n",
       "    <tr>\n",
       "      <th>...</th>\n",
       "      <td>...</td>\n",
       "      <td>...</td>\n",
       "      <td>...</td>\n",
       "      <td>...</td>\n",
       "      <td>...</td>\n",
       "    </tr>\n",
       "    <tr>\n",
       "      <th>782916</th>\n",
       "      <td>1148252342048952322</td>\n",
       "      <td>9.070342e+17</td>\n",
       "      <td>RT @AesopsFableFly: ——— BTS LOCKDOWN ———\\n\\nwh...</td>\n",
       "      <td>——— BTS LOCKDOWN ———\\n\\nwhat is a bts lockdown...</td>\n",
       "      <td>0</td>\n",
       "    </tr>\n",
       "    <tr>\n",
       "      <th>782917</th>\n",
       "      <td>23948496</td>\n",
       "      <td>NaN</td>\n",
       "      <td>A resident of West Courthouse Road found Coope...</td>\n",
       "      <td>NaN</td>\n",
       "      <td>0</td>\n",
       "    </tr>\n",
       "    <tr>\n",
       "      <th>782918</th>\n",
       "      <td>306412670</td>\n",
       "      <td>NaN</td>\n",
       "      <td>#Zambia has 17 million people, a stroke epidem...</td>\n",
       "      <td>NaN</td>\n",
       "      <td>0</td>\n",
       "    </tr>\n",
       "    <tr>\n",
       "      <th>782919</th>\n",
       "      <td>632909553</td>\n",
       "      <td>9.070342e+17</td>\n",
       "      <td>RT @AesopsFableFly: ——— BTS LOCKDOWN ———\\n\\nwh...</td>\n",
       "      <td>——— BTS LOCKDOWN ———\\n\\nwhat is a bts lockdown...</td>\n",
       "      <td>0</td>\n",
       "    </tr>\n",
       "    <tr>\n",
       "      <th>782920</th>\n",
       "      <td>352051593</td>\n",
       "      <td>NaN</td>\n",
       "      <td>四種混合（百日せき、ジフテリア、破傷風、ポリオ）予防接種の接種対象年齢は、生後３か月から90...</td>\n",
       "      <td>NaN</td>\n",
       "      <td>0</td>\n",
       "    </tr>\n",
       "  </tbody>\n",
       "</table>\n",
       "<p>782921 rows × 5 columns</p>\n",
       "</div>"
      ],
      "text/plain": [
       "               rt_author_id   t_author_id  \\\n",
       "0                  28967452  2.802593e+07   \n",
       "1                  57283792  1.665058e+08   \n",
       "2                 211845768  2.261946e+08   \n",
       "3                 119321075  9.541244e+08   \n",
       "4                1391090496  9.541244e+08   \n",
       "...                     ...           ...   \n",
       "782916  1148252342048952322  9.070342e+17   \n",
       "782917             23948496           NaN   \n",
       "782918            306412670           NaN   \n",
       "782919            632909553  9.070342e+17   \n",
       "782920            352051593           NaN   \n",
       "\n",
       "                                                  rt_text  \\\n",
       "0       RT @vmyths: FYI, I'm going to drive home on Fl...   \n",
       "1         @ardnif Dindin kebanjiran?? Staysafe yaaa Din 😘   \n",
       "2       Except you can’t sue vaccine manufacturers htt...   \n",
       "3       RT @AmyMek: Happy New Year from Sharia Sweden....   \n",
       "4       RT @AmyMek: Happy New Year from Sharia Sweden....   \n",
       "...                                                   ...   \n",
       "782916  RT @AesopsFableFly: ——— BTS LOCKDOWN ———\\n\\nwh...   \n",
       "782917  A resident of West Courthouse Road found Coope...   \n",
       "782918  #Zambia has 17 million people, a stroke epidem...   \n",
       "782919  RT @AesopsFableFly: ——— BTS LOCKDOWN ———\\n\\nwh...   \n",
       "782920  四種混合（百日せき、ジフテリア、破傷風、ポリオ）予防接種の接種対象年齢は、生後３か月から90...   \n",
       "\n",
       "                                                   t_text  coronavirus  \n",
       "0       FYI, I'm going to drive home on Florida's Turn...            0  \n",
       "1       isi powerbank cuma pas mau ngonser atau pergi ...            0  \n",
       "2       Just heard a medicine commercial say “If you h...            0  \n",
       "3       Happy New Year from Sharia Sweden...\\n\\n'Gang ...            0  \n",
       "4       Happy New Year from Sharia Sweden...\\n\\n'Gang ...            0  \n",
       "...                                                   ...          ...  \n",
       "782916  ——— BTS LOCKDOWN ———\\n\\nwhat is a bts lockdown...            0  \n",
       "782917                                                NaN            0  \n",
       "782918                                                NaN            0  \n",
       "782919  ——— BTS LOCKDOWN ———\\n\\nwhat is a bts lockdown...            0  \n",
       "782920                                                NaN            0  \n",
       "\n",
       "[782921 rows x 5 columns]"
      ]
     },
     "execution_count": 30,
     "metadata": {},
     "output_type": "execute_result"
    }
   ],
   "source": [
    "df"
   ]
  },
  {
   "cell_type": "code",
   "execution_count": 31,
   "id": "applied-graphics",
   "metadata": {},
   "outputs": [
    {
     "data": {
      "text/plain": [
       "matrix([[1650,    7,    1, ...,    1,    1,    1]])"
      ]
     },
     "execution_count": 31,
     "metadata": {},
     "output_type": "execute_result"
    }
   ],
   "source": [
    "vec.sum(axis=0)"
   ]
  },
  {
   "cell_type": "code",
   "execution_count": 32,
   "id": "vietnamese-chart",
   "metadata": {},
   "outputs": [],
   "source": [
    "# np.array([[1,2],[1,2]]).sum(axis=1)"
   ]
  },
  {
   "cell_type": "code",
   "execution_count": 33,
   "id": "silver-somalia",
   "metadata": {},
   "outputs": [],
   "source": [
    "labels = cv.get_feature_names()"
   ]
  },
  {
   "cell_type": "code",
   "execution_count": 34,
   "id": "adequate-bailey",
   "metadata": {},
   "outputs": [],
   "source": [
    "mentions = []\n",
    "mention_indicies = []\n",
    "hashtags = []\n",
    "hashtag_indicies = []\n",
    "\n",
    "for i, v in enumerate(labels):\n",
    "    if v.startswith('@'):\n",
    "        mentions.append(v)\n",
    "        mention_indicies.append(i)\n",
    "    elif v.startswith('#'):\n",
    "        hashtags.append(v)\n",
    "        hashtag_indicies.append(i)"
   ]
  },
  {
   "cell_type": "code",
   "execution_count": 67,
   "id": "aware-blackjack",
   "metadata": {},
   "outputs": [
    {
     "data": {
      "text/plain": [
       "100741"
      ]
     },
     "execution_count": 67,
     "metadata": {},
     "output_type": "execute_result"
    }
   ],
   "source": [
    "len(mentions)"
   ]
  },
  {
   "cell_type": "code",
   "execution_count": 36,
   "id": "behind-mistress",
   "metadata": {},
   "outputs": [],
   "source": [
    "# np.array(mentions)[[0,1]]"
   ]
  },
  {
   "cell_type": "code",
   "execution_count": 37,
   "id": "affected-finding",
   "metadata": {},
   "outputs": [],
   "source": [
    "mentions = np.array(mentions)\n",
    "mention_indicies = np.array(mention_indicies)\n",
    "hashtags = np.array(hashtags)\n",
    "hashtag_indicies = np.array(hashtag_indicies)"
   ]
  },
  {
   "cell_type": "code",
   "execution_count": 62,
   "id": "twenty-execution",
   "metadata": {},
   "outputs": [],
   "source": [
    "mention_vec = vec[:,mention_indicies]\n",
    "hashtag_vec = vec[:,hashtag_indicies]"
   ]
  },
  {
   "cell_type": "code",
   "execution_count": 92,
   "id": "soviet-attribute",
   "metadata": {},
   "outputs": [],
   "source": [
    "mentions_count = np.array(mention_vec.sum(axis=0)).flatten()\n",
    "mentions_rank_indicies = mentions_count.argsort()[::-1]"
   ]
  },
  {
   "cell_type": "code",
   "execution_count": 64,
   "id": "owned-chest",
   "metadata": {},
   "outputs": [],
   "source": [
    "mentions_ranked = mentions[mentions_rank_indicies]"
   ]
  },
  {
   "cell_type": "code",
   "execution_count": 79,
   "id": "interracial-lesson",
   "metadata": {},
   "outputs": [],
   "source": [
    "top10mentions = mentions_ranked.tolist()[::-1][:10]"
   ]
  },
  {
   "cell_type": "code",
   "execution_count": 95,
   "id": "spatial-concentration",
   "metadata": {},
   "outputs": [],
   "source": [
    "top10mentions_vec = vec[:,mention_indicies[mentions_rank_indicies[:10]]].toarray()"
   ]
  },
  {
   "cell_type": "code",
   "execution_count": 98,
   "id": "handmade-botswana",
   "metadata": {},
   "outputs": [],
   "source": [
    "df['who'] = top10mentions_vec[:,0]"
   ]
  },
  {
   "cell_type": "code",
   "execution_count": 100,
   "id": "reduced-transition",
   "metadata": {},
   "outputs": [
    {
     "data": {
      "text/html": [
       "<div>\n",
       "<style scoped>\n",
       "    .dataframe tbody tr th:only-of-type {\n",
       "        vertical-align: middle;\n",
       "    }\n",
       "\n",
       "    .dataframe tbody tr th {\n",
       "        vertical-align: top;\n",
       "    }\n",
       "\n",
       "    .dataframe thead th {\n",
       "        text-align: right;\n",
       "    }\n",
       "</style>\n",
       "<table border=\"1\" class=\"dataframe\">\n",
       "  <thead>\n",
       "    <tr style=\"text-align: right;\">\n",
       "      <th></th>\n",
       "      <th>rt_author_id</th>\n",
       "      <th>t_author_id</th>\n",
       "      <th>rt_text</th>\n",
       "      <th>t_text</th>\n",
       "      <th>coronavirus</th>\n",
       "      <th>who</th>\n",
       "    </tr>\n",
       "  </thead>\n",
       "  <tbody>\n",
       "    <tr>\n",
       "      <th>2111</th>\n",
       "      <td>488292054</td>\n",
       "      <td>1.954403e+09</td>\n",
       "      <td>@thecableng @WHO @nighealthwatch @DrOlufunmila...</td>\n",
       "      <td>TheCable names Stella Adadevoh as ‘Nigerian of...</td>\n",
       "      <td>0</td>\n",
       "      <td>1</td>\n",
       "    </tr>\n",
       "    <tr>\n",
       "      <th>3280</th>\n",
       "      <td>1105064943794245632</td>\n",
       "      <td>1.415915e+07</td>\n",
       "      <td>@UN @WHO Yup but Kashmir issues where are you?...</td>\n",
       "      <td>As you start a new year, check out these 12 ti...</td>\n",
       "      <td>0</td>\n",
       "      <td>1</td>\n",
       "    </tr>\n",
       "    <tr>\n",
       "      <th>4881</th>\n",
       "      <td>2476070574</td>\n",
       "      <td>1.174222e+18</td>\n",
       "      <td>RT @TBG9270584: Maine Puts Vaccine Mandates to...</td>\n",
       "      <td>Maine Puts Vaccine Mandates to a Popular Vote ...</td>\n",
       "      <td>0</td>\n",
       "      <td>1</td>\n",
       "    </tr>\n",
       "    <tr>\n",
       "      <th>5096</th>\n",
       "      <td>426776226</td>\n",
       "      <td>1.449983e+07</td>\n",
       "      <td>RT @WHO: It's World Immunization Week! \\n\\nVac...</td>\n",
       "      <td>It's World Immunization Week! \\n\\nVaccine-prev...</td>\n",
       "      <td>0</td>\n",
       "      <td>1</td>\n",
       "    </tr>\n",
       "    <tr>\n",
       "      <th>5490</th>\n",
       "      <td>1183658840077680640</td>\n",
       "      <td>1.174222e+18</td>\n",
       "      <td>RT @TBG9270584: Maine Puts Vaccine Mandates to...</td>\n",
       "      <td>Maine Puts Vaccine Mandates to a Popular Vote ...</td>\n",
       "      <td>0</td>\n",
       "      <td>1</td>\n",
       "    </tr>\n",
       "    <tr>\n",
       "      <th>...</th>\n",
       "      <td>...</td>\n",
       "      <td>...</td>\n",
       "      <td>...</td>\n",
       "      <td>...</td>\n",
       "      <td>...</td>\n",
       "      <td>...</td>\n",
       "    </tr>\n",
       "    <tr>\n",
       "      <th>772199</th>\n",
       "      <td>3293886549</td>\n",
       "      <td>NaN</td>\n",
       "      <td>The death toll from a measles epidemic in the ...</td>\n",
       "      <td>NaN</td>\n",
       "      <td>0</td>\n",
       "      <td>1</td>\n",
       "    </tr>\n",
       "    <tr>\n",
       "      <th>772214</th>\n",
       "      <td>7587032</td>\n",
       "      <td>NaN</td>\n",
       "      <td>The death toll from a measles epidemic in the ...</td>\n",
       "      <td>NaN</td>\n",
       "      <td>0</td>\n",
       "      <td>1</td>\n",
       "    </tr>\n",
       "    <tr>\n",
       "      <th>774033</th>\n",
       "      <td>4784948594</td>\n",
       "      <td>2.919391e+09</td>\n",
       "      <td>@cmohry @PMOIndia @narendramodi @mlkhattar @WH...</td>\n",
       "      <td>@dpkchnindia Please share your contact number ...</td>\n",
       "      <td>0</td>\n",
       "      <td>1</td>\n",
       "    </tr>\n",
       "    <tr>\n",
       "      <th>775518</th>\n",
       "      <td>1173286656</td>\n",
       "      <td>7.039767e+17</td>\n",
       "      <td>RT @scleroplex: One more detailed report from ...</td>\n",
       "      <td>One more detailed report from @HelenBranswell ...</td>\n",
       "      <td>0</td>\n",
       "      <td>1</td>\n",
       "    </tr>\n",
       "    <tr>\n",
       "      <th>775866</th>\n",
       "      <td>703976714704007169</td>\n",
       "      <td>NaN</td>\n",
       "      <td>One more detailed report from @HelenBranswell ...</td>\n",
       "      <td>NaN</td>\n",
       "      <td>0</td>\n",
       "      <td>1</td>\n",
       "    </tr>\n",
       "  </tbody>\n",
       "</table>\n",
       "<p>23740 rows × 6 columns</p>\n",
       "</div>"
      ],
      "text/plain": [
       "               rt_author_id   t_author_id  \\\n",
       "2111              488292054  1.954403e+09   \n",
       "3280    1105064943794245632  1.415915e+07   \n",
       "4881             2476070574  1.174222e+18   \n",
       "5096              426776226  1.449983e+07   \n",
       "5490    1183658840077680640  1.174222e+18   \n",
       "...                     ...           ...   \n",
       "772199           3293886549           NaN   \n",
       "772214              7587032           NaN   \n",
       "774033           4784948594  2.919391e+09   \n",
       "775518           1173286656  7.039767e+17   \n",
       "775866   703976714704007169           NaN   \n",
       "\n",
       "                                                  rt_text  \\\n",
       "2111    @thecableng @WHO @nighealthwatch @DrOlufunmila...   \n",
       "3280    @UN @WHO Yup but Kashmir issues where are you?...   \n",
       "4881    RT @TBG9270584: Maine Puts Vaccine Mandates to...   \n",
       "5096    RT @WHO: It's World Immunization Week! \\n\\nVac...   \n",
       "5490    RT @TBG9270584: Maine Puts Vaccine Mandates to...   \n",
       "...                                                   ...   \n",
       "772199  The death toll from a measles epidemic in the ...   \n",
       "772214  The death toll from a measles epidemic in the ...   \n",
       "774033  @cmohry @PMOIndia @narendramodi @mlkhattar @WH...   \n",
       "775518  RT @scleroplex: One more detailed report from ...   \n",
       "775866  One more detailed report from @HelenBranswell ...   \n",
       "\n",
       "                                                   t_text  coronavirus  who  \n",
       "2111    TheCable names Stella Adadevoh as ‘Nigerian of...            0    1  \n",
       "3280    As you start a new year, check out these 12 ti...            0    1  \n",
       "4881    Maine Puts Vaccine Mandates to a Popular Vote ...            0    1  \n",
       "5096    It's World Immunization Week! \\n\\nVaccine-prev...            0    1  \n",
       "5490    Maine Puts Vaccine Mandates to a Popular Vote ...            0    1  \n",
       "...                                                   ...          ...  ...  \n",
       "772199                                                NaN            0    1  \n",
       "772214                                                NaN            0    1  \n",
       "774033  @dpkchnindia Please share your contact number ...            0    1  \n",
       "775518  One more detailed report from @HelenBranswell ...            0    1  \n",
       "775866                                                NaN            0    1  \n",
       "\n",
       "[23740 rows x 6 columns]"
      ]
     },
     "execution_count": 100,
     "metadata": {},
     "output_type": "execute_result"
    }
   ],
   "source": [
    "df[df.who>0]"
   ]
  },
  {
   "cell_type": "code",
   "execution_count": 97,
   "id": "handed-attribute",
   "metadata": {},
   "outputs": [
    {
     "data": {
      "text/html": [
       "<div>\n",
       "<style scoped>\n",
       "    .dataframe tbody tr th:only-of-type {\n",
       "        vertical-align: middle;\n",
       "    }\n",
       "\n",
       "    .dataframe tbody tr th {\n",
       "        vertical-align: top;\n",
       "    }\n",
       "\n",
       "    .dataframe thead th {\n",
       "        text-align: right;\n",
       "    }\n",
       "</style>\n",
       "<table border=\"1\" class=\"dataframe\">\n",
       "  <thead>\n",
       "    <tr style=\"text-align: right;\">\n",
       "      <th></th>\n",
       "      <th>rt_author_id</th>\n",
       "      <th>t_author_id</th>\n",
       "      <th>rt_text</th>\n",
       "      <th>t_text</th>\n",
       "      <th>coronavirus</th>\n",
       "    </tr>\n",
       "  </thead>\n",
       "  <tbody>\n",
       "    <tr>\n",
       "      <th>2111</th>\n",
       "      <td>488292054</td>\n",
       "      <td>1.954403e+09</td>\n",
       "      <td>@thecableng @WHO @nighealthwatch @DrOlufunmila...</td>\n",
       "      <td>TheCable names Stella Adadevoh as ‘Nigerian of...</td>\n",
       "      <td>0</td>\n",
       "    </tr>\n",
       "    <tr>\n",
       "      <th>3280</th>\n",
       "      <td>1105064943794245632</td>\n",
       "      <td>1.415915e+07</td>\n",
       "      <td>@UN @WHO Yup but Kashmir issues where are you?...</td>\n",
       "      <td>As you start a new year, check out these 12 ti...</td>\n",
       "      <td>0</td>\n",
       "    </tr>\n",
       "    <tr>\n",
       "      <th>4881</th>\n",
       "      <td>2476070574</td>\n",
       "      <td>1.174222e+18</td>\n",
       "      <td>RT @TBG9270584: Maine Puts Vaccine Mandates to...</td>\n",
       "      <td>Maine Puts Vaccine Mandates to a Popular Vote ...</td>\n",
       "      <td>0</td>\n",
       "    </tr>\n",
       "    <tr>\n",
       "      <th>5096</th>\n",
       "      <td>426776226</td>\n",
       "      <td>1.449983e+07</td>\n",
       "      <td>RT @WHO: It's World Immunization Week! \\n\\nVac...</td>\n",
       "      <td>It's World Immunization Week! \\n\\nVaccine-prev...</td>\n",
       "      <td>0</td>\n",
       "    </tr>\n",
       "    <tr>\n",
       "      <th>5490</th>\n",
       "      <td>1183658840077680640</td>\n",
       "      <td>1.174222e+18</td>\n",
       "      <td>RT @TBG9270584: Maine Puts Vaccine Mandates to...</td>\n",
       "      <td>Maine Puts Vaccine Mandates to a Popular Vote ...</td>\n",
       "      <td>0</td>\n",
       "    </tr>\n",
       "    <tr>\n",
       "      <th>...</th>\n",
       "      <td>...</td>\n",
       "      <td>...</td>\n",
       "      <td>...</td>\n",
       "      <td>...</td>\n",
       "      <td>...</td>\n",
       "    </tr>\n",
       "    <tr>\n",
       "      <th>772199</th>\n",
       "      <td>3293886549</td>\n",
       "      <td>NaN</td>\n",
       "      <td>The death toll from a measles epidemic in the ...</td>\n",
       "      <td>NaN</td>\n",
       "      <td>0</td>\n",
       "    </tr>\n",
       "    <tr>\n",
       "      <th>772214</th>\n",
       "      <td>7587032</td>\n",
       "      <td>NaN</td>\n",
       "      <td>The death toll from a measles epidemic in the ...</td>\n",
       "      <td>NaN</td>\n",
       "      <td>0</td>\n",
       "    </tr>\n",
       "    <tr>\n",
       "      <th>774033</th>\n",
       "      <td>4784948594</td>\n",
       "      <td>2.919391e+09</td>\n",
       "      <td>@cmohry @PMOIndia @narendramodi @mlkhattar @WH...</td>\n",
       "      <td>@dpkchnindia Please share your contact number ...</td>\n",
       "      <td>0</td>\n",
       "    </tr>\n",
       "    <tr>\n",
       "      <th>775518</th>\n",
       "      <td>1173286656</td>\n",
       "      <td>7.039767e+17</td>\n",
       "      <td>RT @scleroplex: One more detailed report from ...</td>\n",
       "      <td>One more detailed report from @HelenBranswell ...</td>\n",
       "      <td>0</td>\n",
       "    </tr>\n",
       "    <tr>\n",
       "      <th>775866</th>\n",
       "      <td>703976714704007169</td>\n",
       "      <td>NaN</td>\n",
       "      <td>One more detailed report from @HelenBranswell ...</td>\n",
       "      <td>NaN</td>\n",
       "      <td>0</td>\n",
       "    </tr>\n",
       "  </tbody>\n",
       "</table>\n",
       "<p>23740 rows × 5 columns</p>\n",
       "</div>"
      ],
      "text/plain": [
       "               rt_author_id   t_author_id  \\\n",
       "2111              488292054  1.954403e+09   \n",
       "3280    1105064943794245632  1.415915e+07   \n",
       "4881             2476070574  1.174222e+18   \n",
       "5096              426776226  1.449983e+07   \n",
       "5490    1183658840077680640  1.174222e+18   \n",
       "...                     ...           ...   \n",
       "772199           3293886549           NaN   \n",
       "772214              7587032           NaN   \n",
       "774033           4784948594  2.919391e+09   \n",
       "775518           1173286656  7.039767e+17   \n",
       "775866   703976714704007169           NaN   \n",
       "\n",
       "                                                  rt_text  \\\n",
       "2111    @thecableng @WHO @nighealthwatch @DrOlufunmila...   \n",
       "3280    @UN @WHO Yup but Kashmir issues where are you?...   \n",
       "4881    RT @TBG9270584: Maine Puts Vaccine Mandates to...   \n",
       "5096    RT @WHO: It's World Immunization Week! \\n\\nVac...   \n",
       "5490    RT @TBG9270584: Maine Puts Vaccine Mandates to...   \n",
       "...                                                   ...   \n",
       "772199  The death toll from a measles epidemic in the ...   \n",
       "772214  The death toll from a measles epidemic in the ...   \n",
       "774033  @cmohry @PMOIndia @narendramodi @mlkhattar @WH...   \n",
       "775518  RT @scleroplex: One more detailed report from ...   \n",
       "775866  One more detailed report from @HelenBranswell ...   \n",
       "\n",
       "                                                   t_text  coronavirus  \n",
       "2111    TheCable names Stella Adadevoh as ‘Nigerian of...            0  \n",
       "3280    As you start a new year, check out these 12 ti...            0  \n",
       "4881    Maine Puts Vaccine Mandates to a Popular Vote ...            0  \n",
       "5096    It's World Immunization Week! \\n\\nVaccine-prev...            0  \n",
       "5490    Maine Puts Vaccine Mandates to a Popular Vote ...            0  \n",
       "...                                                   ...          ...  \n",
       "772199                                                NaN            0  \n",
       "772214                                                NaN            0  \n",
       "774033  @dpkchnindia Please share your contact number ...            0  \n",
       "775518  One more detailed report from @HelenBranswell ...            0  \n",
       "775866                                                NaN            0  \n",
       "\n",
       "[23740 rows x 5 columns]"
      ]
     },
     "execution_count": 97,
     "metadata": {},
     "output_type": "execute_result"
    }
   ],
   "source": [
    "df[] = df[top10mentions_vec[:,0]>0]"
   ]
  },
  {
   "cell_type": "code",
   "execution_count": 86,
   "id": "metallic-strength",
   "metadata": {},
   "outputs": [
    {
     "data": {
      "text/plain": [
       "(100731,)"
      ]
     },
     "execution_count": 86,
     "metadata": {},
     "output_type": "execute_result"
    }
   ],
   "source": [
    "# mention_indicies[mentions_rank_indicies[:-10]].shape"
   ]
  },
  {
   "cell_type": "code",
   "execution_count": 93,
   "id": "ambient-roots",
   "metadata": {},
   "outputs": [
    {
     "data": {
      "text/plain": [
       "(782921, 10)"
      ]
     },
     "execution_count": 93,
     "metadata": {},
     "output_type": "execute_result"
    }
   ],
   "source": [
    "# vec[:,mention_indicies[mentions_rank_indicies[:10]]].toarray().shape"
   ]
  },
  {
   "cell_type": "code",
   "execution_count": null,
   "id": "built-circular",
   "metadata": {},
   "outputs": [],
   "source": []
  },
  {
   "cell_type": "code",
   "execution_count": null,
   "id": "virgin-lodging",
   "metadata": {},
   "outputs": [],
   "source": []
  },
  {
   "cell_type": "code",
   "execution_count": 74,
   "id": "adjusted-incentive",
   "metadata": {},
   "outputs": [
    {
     "data": {
      "text/plain": [
       "array([    1,     1,     1, ..., 11126, 15641, 23809])"
      ]
     },
     "execution_count": 74,
     "metadata": {},
     "output_type": "execute_result"
    }
   ],
   "source": [
    "mentions_count[mentions_rank_indicies]"
   ]
  },
  {
   "cell_type": "code",
   "execution_count": 45,
   "id": "organic-demand",
   "metadata": {},
   "outputs": [
    {
     "data": {
      "text/plain": [
       "<memory at 0x107c99110>"
      ]
     },
     "execution_count": 45,
     "metadata": {},
     "output_type": "execute_result"
    }
   ],
   "source": [
    "a.data"
   ]
  },
  {
   "cell_type": "code",
   "execution_count": 51,
   "id": "circular-peace",
   "metadata": {},
   "outputs": [
    {
     "data": {
      "text/plain": [
       "array([[183,   2,   0, ...,   0,   0,   0]])"
      ]
     },
     "execution_count": 51,
     "metadata": {},
     "output_type": "execute_result"
    }
   ],
   "source": [
    "np.array(a)#.flatten()"
   ]
  },
  {
   "cell_type": "code",
   "execution_count": null,
   "id": "vocal-leather",
   "metadata": {},
   "outputs": [],
   "source": []
  },
  {
   "cell_type": "code",
   "execution_count": 68,
   "id": "secure-property",
   "metadata": {},
   "outputs": [],
   "source": [
    "hashtags_count = np.array(hashtag_vec.sum(axis=0)).flatten()\n",
    "hashtags_rank_indicies = hashtags_count.argsort()[::-1]"
   ]
  },
  {
   "cell_type": "code",
   "execution_count": 69,
   "id": "handy-peripheral",
   "metadata": {},
   "outputs": [],
   "source": [
    "hashtags_ranked = hashtags[hashtags_rank_indicies]"
   ]
  },
  {
   "cell_type": "code",
   "execution_count": 70,
   "id": "close-revolution",
   "metadata": {},
   "outputs": [
    {
     "data": {
      "text/plain": [
       "array(['#toyotabookoflife', '#teachus', '#team100', ..., '#wuhan',\n",
       "       '#china', '#coronavirus'], dtype='<U169')"
      ]
     },
     "execution_count": 70,
     "metadata": {},
     "output_type": "execute_result"
    }
   ],
   "source": [
    "hashtags_ranked"
   ]
  },
  {
   "cell_type": "code",
   "execution_count": 72,
   "id": "actual-investment",
   "metadata": {},
   "outputs": [
    {
     "data": {
      "text/plain": [
       "array([    1,     1,     1, ..., 10394, 18458, 62560])"
      ]
     },
     "execution_count": 72,
     "metadata": {},
     "output_type": "execute_result"
    }
   ],
   "source": [
    "hashtags_count[hashtags_rank_indicies]"
   ]
  },
  {
   "cell_type": "code",
   "execution_count": null,
   "id": "particular-thanks",
   "metadata": {},
   "outputs": [],
   "source": []
  }
 ],
 "metadata": {
  "kernelspec": {
   "display_name": "Python 3",
   "language": "python",
   "name": "python3"
  },
  "language_info": {
   "codemirror_mode": {
    "name": "ipython",
    "version": 3
   },
   "file_extension": ".py",
   "mimetype": "text/x-python",
   "name": "python",
   "nbconvert_exporter": "python",
   "pygments_lexer": "ipython3",
   "version": "3.9.2"
  }
 },
 "nbformat": 4,
 "nbformat_minor": 5
}
